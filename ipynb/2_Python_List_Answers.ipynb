{
 "cells": [
  {
   "cell_type": "markdown",
   "metadata": {},
   "source": [
    "# Python数据分析入门（2）Python 列表 list - 练习答案 "
   ]
  },
  {
   "cell_type": "markdown",
   "metadata": {},
   "source": [
    "本文内容整理自DataCamp课程之 [Intro to Python for Data Science](https://www.datacamp.com/courses/intro-to-python-for-data-science)."
   ]
  },
  {
   "cell_type": "markdown",
   "metadata": {},
   "source": [
    "**注意**：本文代码基于Python3版本。如果要在python2中执行，需要先导入\\__future\\__模块。"
   ]
  },
  {
   "cell_type": "code",
   "execution_count": 2,
   "metadata": {
    "collapsed": true
   },
   "outputs": [],
   "source": [
    "#仅在Python2中使用\n",
    "#from __future__ import division\n",
    "#from __future__ import print_function"
   ]
  },
  {
   "cell_type": "markdown",
   "metadata": {},
   "source": [
    "### 1. List 数据类型"
   ]
  },
  {
   "cell_type": "markdown",
   "metadata": {},
   "source": [
    "上一讲中，我们提到了四种数据类型，分别是浮点型（float）、整型（int）、字符串（str）、布尔型（bool）。它们都有个共同特点，那就是这些类型的变量只能存放一个数值。如果我们想存储一家四口人的身高数据，该怎么办呢？是不是要创建4个变量？如果是一个国家的数据呢？\n",
    "\n",
    "显然我们需要新的数据类型，一种复合的数据类型，列表（list）则很好地地解决了这一大数据量的问题。\n",
    "\n",
    "列表可以看成是一串有序的数据集合，它可以存放任何类型的数据，甚至是不同类型的数据。你可以将它想象成一列队伍，其中有各个国家的人，甚至还要小猫和小狗。"
   ]
  },
  {
   "cell_type": "markdown",
   "metadata": {},
   "source": [
    "我们将数据放入一对方括号 [ ] 内来表示列表，数据之间用逗号相隔。以下是某个四口之家的身高数据列表："
   ]
  },
  {
   "cell_type": "code",
   "execution_count": 3,
   "metadata": {},
   "outputs": [
    {
     "data": {
      "text/plain": [
       "[1.73, 1.68, 1.71, 1.89]"
      ]
     },
     "execution_count": 3,
     "metadata": {},
     "output_type": "execute_result"
    }
   ],
   "source": [
    "family = [1.73, 1.68, 1.71, 1.89]\n",
    "family"
   ]
  },
  {
   "cell_type": "markdown",
   "metadata": {},
   "source": [
    "使用 `type()` 函数检查下它的数据类型： "
   ]
  },
  {
   "cell_type": "code",
   "execution_count": 4,
   "metadata": {},
   "outputs": [
    {
     "data": {
      "text/plain": [
       "list"
      ]
     },
     "execution_count": 4,
     "metadata": {},
     "output_type": "execute_result"
    }
   ],
   "source": [
    "type(family)"
   ]
  },
  {
   "cell_type": "markdown",
   "metadata": {},
   "source": [
    "以上列表并不能区分是谁的身高，如何改进呢？还记得我们说过，列表中的元素可以是不同类型的数据，所以我们做如下改动。"
   ]
  },
  {
   "cell_type": "code",
   "execution_count": 5,
   "metadata": {},
   "outputs": [
    {
     "data": {
      "text/plain": [
       "['me', 1.73, 'sister', 1.68, 'mom', 1.71, 'dad', 1.89]"
      ]
     },
     "execution_count": 5,
     "metadata": {},
     "output_type": "execute_result"
    }
   ],
   "source": [
    "family = ['me', 1.73, 'sister', 1.68, 'mom', 1.71, 'dad', 1.89]\n",
    "family"
   ]
  },
  {
   "cell_type": "markdown",
   "metadata": {},
   "source": [
    "上面将字符串和实数混合在一个列表中，区分了身高。那么再想一想，有没有更好的办法呢？当然是有的。"
   ]
  },
  {
   "cell_type": "code",
   "execution_count": 6,
   "metadata": {},
   "outputs": [
    {
     "data": {
      "text/plain": [
       "[['me', 1.73], ['sister', 1.68], ['mom', 1.71], ['dad', 1.89]]"
      ]
     },
     "execution_count": 6,
     "metadata": {},
     "output_type": "execute_result"
    }
   ],
   "source": [
    "family2 = [['me', 1.73],\n",
    "          ['sister', 1.68],\n",
    "          ['mom', 1.71],\n",
    "          ['dad', 1.89]]\n",
    "family2"
   ]
  },
  {
   "cell_type": "markdown",
   "metadata": {},
   "source": [
    "看清了吗？列表的元素也可以是列表，以上将每一个小列表，嵌套入一个更大的列表之中，使得数据的结构更清晰。当然，还有其他多种方式来表达这组数据，比如字典，因为不是今天的主题就不在此处展开了。"
   ]
  },
  {
   "cell_type": "markdown",
   "metadata": {},
   "source": [
    "#### 练习2-1："
   ]
  },
  {
   "cell_type": "markdown",
   "metadata": {},
   "source": [
    "在记录了全家的身高后，你是不是打算再记录一下家里各个房间的面积呢。请根据下面的提示，创建一个房间面积的列表。"
   ]
  },
  {
   "cell_type": "code",
   "execution_count": 7,
   "metadata": {},
   "outputs": [
    {
     "name": "stdout",
     "output_type": "stream",
     "text": [
      "[11.25, 18.0, 20.0, 10.75, 9.5]\n"
     ]
    }
   ],
   "source": [
    "# 各房间的面积变量（单位是平方米）\n",
    "hall = 11.25\n",
    "kit = 18.0\n",
    "liv = 20.0\n",
    "bed = 10.75\n",
    "bath = 9.50\n",
    "\n",
    "# 创建面积列表 areas\n",
    "areas = [hall, kit, liv, bed, bath]\n",
    "\n",
    "# 打印输出 areas\n",
    "print(areas)\n"
   ]
  },
  {
   "cell_type": "markdown",
   "metadata": {},
   "source": [
    "参考上文例子中的方法，创建一个更清晰的列表，能显示出是哪个房间面积。"
   ]
  },
  {
   "cell_type": "code",
   "execution_count": 8,
   "metadata": {},
   "outputs": [
    {
     "name": "stdout",
     "output_type": "stream",
     "text": [
      "['hallway', 11.25, 'kitchen', 18.0, 'living room', 20.0, 'bedroom', 10.75, 'bathroom', 9.5]\n",
      "<class 'list'>\n"
     ]
    }
   ],
   "source": [
    "# 改进后的列表 areas\n",
    "areas = [\"hallway\", hall, \"kitchen\", kit, \"living room\", liv, \"bedroom\", bed, \"bathroom\", bath]\n",
    "\n",
    "# 打印输出 areas\n",
    "print(areas)\n",
    "\n",
    "# 输出 areas 的数据类型\n",
    "print(type(areas))"
   ]
  },
  {
   "cell_type": "code",
   "execution_count": 9,
   "metadata": {},
   "outputs": [
    {
     "name": "stdout",
     "output_type": "stream",
     "text": [
      "[['hallway', 11.25], ['kitchen', 18.0], ['living room', 20.0], ['bedroom', 10.75], ['bathroom', 9.5]]\n",
      "<class 'list'>\n"
     ]
    }
   ],
   "source": [
    "# 用两层列表改进\n",
    "house = [[\"hallway\", hall],\n",
    "         [\"kitchen\", kit],\n",
    "         [\"living room\", liv],\n",
    "         [\"bedroom\", bed],\n",
    "         [\"bathroom\", bath]]\n",
    "\n",
    "# 打印输出\n",
    "print(house)\n",
    "\n",
    "# 输出数据类型\n",
    "print(type(house))"
   ]
  },
  {
   "cell_type": "markdown",
   "metadata": {},
   "source": [
    "### 2. 列表切片"
   ]
  },
  {
   "cell_type": "markdown",
   "metadata": {},
   "source": [
    "切片，顾名思义，就是截取一个片段。有时我们只需要使用列表中的部分数据，可以使用切片操作来实现。\n",
    "\n",
    "在讲具体操作前，我们首先需要了解Python列表的索引规则。列表是有序的，我们用索引来标记这一序列。索引既可以正着数，也可以倒着数，但要注意，正向索引时是从0开始计数的。"
   ]
  },
  {
   "cell_type": "markdown",
   "metadata": {},
   "source": [
    "![索引](index.jpg)"
   ]
  },
  {
   "cell_type": "markdown",
   "metadata": {},
   "source": [
    "在列表中取单个元素时，我们采用 `list_name[index]`，比如："
   ]
  },
  {
   "cell_type": "code",
   "execution_count": 10,
   "metadata": {},
   "outputs": [
    {
     "data": {
      "text/plain": [
       "1.68"
      ]
     },
     "execution_count": 10,
     "metadata": {},
     "output_type": "execute_result"
    }
   ],
   "source": [
    "family[3]"
   ]
  },
  {
   "cell_type": "code",
   "execution_count": 11,
   "metadata": {},
   "outputs": [
    {
     "data": {
      "text/plain": [
       "'dad'"
      ]
     },
     "execution_count": 11,
     "metadata": {},
     "output_type": "execute_result"
    }
   ],
   "source": [
    "family[-2]"
   ]
  },
  {
   "cell_type": "markdown",
   "metadata": {},
   "source": [
    "在列表中取连续的一串元素时，采用 `list_name[start:end]`，但尤其要注意，end 代表的元素并不包含在结果中。"
   ]
  },
  {
   "cell_type": "code",
   "execution_count": 12,
   "metadata": {},
   "outputs": [
    {
     "data": {
      "text/plain": [
       "['mom', 1.71]"
      ]
     },
     "execution_count": 12,
     "metadata": {},
     "output_type": "execute_result"
    }
   ],
   "source": [
    "family[4:6]"
   ]
  },
  {
   "cell_type": "markdown",
   "metadata": {},
   "source": [
    "如果从头部开始取数，或结束在尾部时，可采用省略模式。"
   ]
  },
  {
   "cell_type": "code",
   "execution_count": 13,
   "metadata": {},
   "outputs": [
    {
     "data": {
      "text/plain": [
       "['me', 1.73]"
      ]
     },
     "execution_count": 13,
     "metadata": {},
     "output_type": "execute_result"
    }
   ],
   "source": [
    "family[:2]"
   ]
  },
  {
   "cell_type": "code",
   "execution_count": 14,
   "metadata": {},
   "outputs": [
    {
     "data": {
      "text/plain": [
       "['dad', 1.89]"
      ]
     },
     "execution_count": 14,
     "metadata": {},
     "output_type": "execute_result"
    }
   ],
   "source": [
    "family[-2:]"
   ]
  },
  {
   "cell_type": "code",
   "execution_count": 15,
   "metadata": {},
   "outputs": [
    {
     "data": {
      "text/plain": [
       "['me', 1.73, 'sister', 1.68, 'mom', 1.71, 'dad', 1.89]"
      ]
     },
     "execution_count": 15,
     "metadata": {},
     "output_type": "execute_result"
    }
   ],
   "source": [
    "family[:] # 表示全部"
   ]
  },
  {
   "cell_type": "markdown",
   "metadata": {},
   "source": [
    "当然还可以设置特定的步长间隔。"
   ]
  },
  {
   "cell_type": "code",
   "execution_count": 16,
   "metadata": {},
   "outputs": [
    {
     "data": {
      "text/plain": [
       "[1.73, 1.68, 1.71]"
      ]
     },
     "execution_count": 16,
     "metadata": {},
     "output_type": "execute_result"
    }
   ],
   "source": [
    "family[1:7:2]"
   ]
  },
  {
   "cell_type": "markdown",
   "metadata": {},
   "source": [
    "#### 练习2-2："
   ]
  },
  {
   "cell_type": "markdown",
   "metadata": {},
   "source": [
    "依旧使用上一节练习中的房间面积数据，让我们来练习下切片操作。"
   ]
  },
  {
   "cell_type": "code",
   "execution_count": 17,
   "metadata": {},
   "outputs": [
    {
     "name": "stdout",
     "output_type": "stream",
     "text": [
      "11.25\n",
      "9.5\n",
      "20.0\n"
     ]
    }
   ],
   "source": [
    "# 创建 areas 列表\n",
    "areas = [\"hallway\", 11.25, \"kitchen\", 18.0, \"living room\", 20.0, \"bedroom\", 10.75, \"bathroom\", 9.50]\n",
    "\n",
    "# 打印输出 areas 中第2个元素\n",
    "print(areas[1])\n",
    "\n",
    "# 打印输出 areas 中最后一个元素\n",
    "print(areas[-1])\n",
    "\n",
    "# 打印输出 living room 的面积\n",
    "print(areas[5])"
   ]
  },
  {
   "cell_type": "markdown",
   "metadata": {},
   "source": [
    "让我们用列表元素做个小计算："
   ]
  },
  {
   "cell_type": "code",
   "execution_count": 18,
   "metadata": {},
   "outputs": [
    {
     "name": "stdout",
     "output_type": "stream",
     "text": [
      "28.75\n"
     ]
    }
   ],
   "source": [
    "# 计算厨房kitchen和卧室bedroom的总面积，并赋值给 eat_sleep_area\n",
    "eat_sleep_area = areas[3] + areas[7]\n",
    "\n",
    "# 打印输出 eat_sleep_area\n",
    "print(eat_sleep_area)\n"
   ]
  },
  {
   "cell_type": "markdown",
   "metadata": {},
   "source": [
    "想象一下这是一个两层的迷你小别墅，楼下包括门厅hallway、厨房kitchen、客厅living room，楼上包括卧室bedroom和浴室bathroom。"
   ]
  },
  {
   "cell_type": "code",
   "execution_count": 31,
   "metadata": {},
   "outputs": [
    {
     "name": "stdout",
     "output_type": "stream",
     "text": [
      "['hallway', 11.25, 'kitchen', 18.0, 'chill zone', 20.0]\n",
      "['bedroom', 10.75, 'bathroom', 10.5]\n"
     ]
    }
   ],
   "source": [
    "# 切片将楼下的数据存入 downstairs\n",
    "downstairs = areas[:6]\n",
    "\n",
    "# 切片将楼上的数据存入 upstairs\n",
    "upstairs = areas[-4:]  \n",
    "# 或者 upstairs = areas[6:]\n",
    "\n",
    "# 打印输出 downstairs 和 upstairs\n",
    "print(downstairs)\n",
    "print(upstairs)"
   ]
  },
  {
   "cell_type": "markdown",
   "metadata": {},
   "source": [
    "### 3. 列表操作"
   ]
  },
  {
   "cell_type": "markdown",
   "metadata": {
    "collapsed": true
   },
   "source": [
    "接下来，让我们看看如何对列表进行修改、增加、移除等操作。"
   ]
  },
  {
   "cell_type": "markdown",
   "metadata": {},
   "source": [
    "随着时光老去，你发现爸爸不如以前高了，而自己似乎又长了点，于是你打算对 family 列表做下修改。"
   ]
  },
  {
   "cell_type": "code",
   "execution_count": 33,
   "metadata": {},
   "outputs": [
    {
     "data": {
      "text/plain": [
       "['taller_me', 1.78, 'mom', 1.71, 'dad', 1.86, 'brother', 1.86]"
      ]
     },
     "execution_count": 33,
     "metadata": {},
     "output_type": "execute_result"
    }
   ],
   "source": [
    "family[7] = 1.86\n",
    "family[0:2] = ['taller_me', 1.78]\n",
    "family"
   ]
  },
  {
   "cell_type": "markdown",
   "metadata": {},
   "source": [
    "但是可喜的是，又添了一个兄弟，于是把他也加入 family 中。"
   ]
  },
  {
   "cell_type": "code",
   "execution_count": 21,
   "metadata": {},
   "outputs": [
    {
     "data": {
      "text/plain": [
       "['taller_me', 1.78, 'sister', 1.68, 'mom', 1.71, 'dad', 1.86, 'brother', 0.85]"
      ]
     },
     "execution_count": 21,
     "metadata": {},
     "output_type": "execute_result"
    }
   ],
   "source": [
    "family = family + ['brother', 0.85]\n",
    "family"
   ]
  },
  {
   "cell_type": "markdown",
   "metadata": {},
   "source": [
    "略感哀伤的是，姐姐嫁人了，离开了这个家庭，所以得把她从 family 中移除。"
   ]
  },
  {
   "cell_type": "code",
   "execution_count": 22,
   "metadata": {},
   "outputs": [
    {
     "data": {
      "text/plain": [
       "['taller_me', 1.78, 'mom', 1.71, 'dad', 1.86, 'brother', 0.85]"
      ]
     },
     "execution_count": 22,
     "metadata": {},
     "output_type": "execute_result"
    }
   ],
   "source": [
    "del(family[2:4])\n",
    "family"
   ]
  },
  {
   "cell_type": "markdown",
   "metadata": {},
   "source": [
    "家庭故事就到这儿结束啦，让我们回归到逻辑层面，请猜一猜以下代码单元中的 x与y、x与z 之间是什么关系？"
   ]
  },
  {
   "cell_type": "code",
   "execution_count": 23,
   "metadata": {},
   "outputs": [
    {
     "name": "stdout",
     "output_type": "stream",
     "text": [
      "['a', 'b', 'c']\n",
      "['a', 'b', 'c']\n"
     ]
    }
   ],
   "source": [
    "x = ['a', 'b', 'c']\n",
    "y = x\n",
    "print(x)\n",
    "print(y)"
   ]
  },
  {
   "cell_type": "markdown",
   "metadata": {},
   "source": [
    "如果改变y的值，会发生什么情况？"
   ]
  },
  {
   "cell_type": "code",
   "execution_count": 24,
   "metadata": {},
   "outputs": [
    {
     "name": "stdout",
     "output_type": "stream",
     "text": [
      "['d', 'b', 'c']\n",
      "['d', 'b', 'c']\n"
     ]
    }
   ],
   "source": [
    "y[0] = 'd'\n",
    "print(x)\n",
    "print(y)"
   ]
  },
  {
   "cell_type": "markdown",
   "metadata": {},
   "source": [
    "x的值竟然也跟着变了！我们再看："
   ]
  },
  {
   "cell_type": "code",
   "execution_count": 25,
   "metadata": {},
   "outputs": [
    {
     "name": "stdout",
     "output_type": "stream",
     "text": [
      "['a', 'b', 'c']\n",
      "['a', 'b', 'c']\n"
     ]
    }
   ],
   "source": [
    "x = ['a', 'b', 'c']\n",
    "z = list(x) # 或 z = x[:]\n",
    "print(x)\n",
    "print(z)"
   ]
  },
  {
   "cell_type": "markdown",
   "metadata": {},
   "source": [
    "我们会发现，如果改变z的值，x并不会跟着变。"
   ]
  },
  {
   "cell_type": "code",
   "execution_count": 26,
   "metadata": {},
   "outputs": [
    {
     "name": "stdout",
     "output_type": "stream",
     "text": [
      "['a', 'b', 'c']\n",
      "['e', 'b', 'c']\n"
     ]
    }
   ],
   "source": [
    "z[0] = 'e'\n",
    "print(x)\n",
    "print(z)"
   ]
  },
  {
   "cell_type": "markdown",
   "metadata": {},
   "source": [
    "让我们用下面这幅图来说明背后的逻辑。Python使用对象模型来存储数据，任何类型的值都是一个对象，所有对象都具备三个特性：身份（ID）、值（value）、类型（type）。这里的列表自然也是对象，x、y、z这类列表名称是ID，它们所指向的内容才是value。所以当使用 `y = x` 时，只是将ID进行传递，它们所指向的值是同一个。但是使用 `z = list(x)`，则是创建了一个新的对象z。"
   ]
  },
  {
   "cell_type": "markdown",
   "metadata": {},
   "source": [
    "![列表](list.jpg)"
   ]
  },
  {
   "cell_type": "markdown",
   "metadata": {},
   "source": [
    "#### 练习2-3："
   ]
  },
  {
   "cell_type": "markdown",
   "metadata": {},
   "source": [
    "现在你打算将房子改造一下，那么亲手试一下吧！"
   ]
  },
  {
   "cell_type": "code",
   "execution_count": 27,
   "metadata": {},
   "outputs": [
    {
     "name": "stdout",
     "output_type": "stream",
     "text": [
      "['hallway', 11.25, 'kitchen', 18.0, 'chill zone', 20.0, 'bedroom', 10.75, 'bathroom', 10.5]\n"
     ]
    }
   ],
   "source": [
    "# 创建 areas 列表\n",
    "areas = [\"hallway\", 11.25, \"kitchen\", 18.0, \"living room\", 20.0, \"bedroom\", 10.75, \"bathroom\", 9.50]\n",
    "\n",
    "# 将浴室bathroom的面积修改为10.5\n",
    "areas[-1] = 10.50\n",
    "\n",
    "# 将\"living room\" 修改为\"chill zone\"\n",
    "areas[4] = \"chill zone\"\n",
    "\n",
    "print(areas)"
   ]
  },
  {
   "cell_type": "code",
   "execution_count": 28,
   "metadata": {},
   "outputs": [
    {
     "name": "stdout",
     "output_type": "stream",
     "text": [
      "['hallway', 11.25, 'kitchen', 18.0, 'chill zone', 20.0, 'bedroom', 10.75, 'bathroom', 10.5, 'poolhouse', 24.5, 'garage', 15.45]\n"
     ]
    }
   ],
   "source": [
    "# 创建一个新的列表 areas_1，在原有 areas 列表的基础上，增加一个游泳池 poolhouse，面积是24.5平米\n",
    "areas_1 = areas + [\"poolhouse\", 24.5]\n",
    "\n",
    "# 创建一个新的列表 areas_2，在 areas_1 的基础上，再增加一个面积为15.45平米的车库。\n",
    "areas_2 = areas_1 + [\"garage\", 15.45]\n",
    "\n",
    "print(areas_2)"
   ]
  },
  {
   "cell_type": "code",
   "execution_count": 29,
   "metadata": {},
   "outputs": [
    {
     "name": "stdout",
     "output_type": "stream",
     "text": [
      "[11.25, 18.0, 20.0, 10.75, 9.5]\n",
      "[5.0, 18.0, 20.0, 10.75, 9.5]\n"
     ]
    }
   ],
   "source": [
    "# 创建 areas_list\n",
    "areas_list = [11.25, 18.0, 20.0, 10.75, 9.50]\n",
    "\n",
    "# 创建新的列表 areas_copy，是它的值和 areas_list 相同，但在改变 areas_copy 时不能影响 areas_list 的值\n",
    "areas_copy = list(areas_list)\n",
    "\n",
    "# 改变 areas_copy\n",
    "areas_copy[0] = 5.0\n",
    "\n",
    "print(areas_list)\n",
    "print(areas_copy)"
   ]
  }
 ],
 "metadata": {
  "kernelspec": {
   "display_name": "Python 3",
   "language": "python",
   "name": "python3"
  },
  "language_info": {
   "codemirror_mode": {
    "name": "ipython",
    "version": 3
   },
   "file_extension": ".py",
   "mimetype": "text/x-python",
   "name": "python",
   "nbconvert_exporter": "python",
   "pygments_lexer": "ipython3",
   "version": "3.6.1"
  }
 },
 "nbformat": 4,
 "nbformat_minor": 2
}
