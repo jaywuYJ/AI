{
 "cells": [
  {
   "cell_type": "markdown",
   "metadata": {},
   "source": [
    "#Mining the Social Web, 2nd Edition\n",
    "\n",
    "##Chapter 7: Mining GitHub: Inspecting Software Collaboration Habits, Building Interest Graphs, and More\n",
    "\n",
    "This IPython Notebook provides an interactive way to follow along with and explore the numbered examples from [_Mining the Social Web (2nd Edition)_](http://bit.ly/135dHfs). The intent behind this notebook is to reinforce the concepts from the sample code in a fun, convenient, and effective way. This notebook assumes that you are reading along with the book and have the context of the discussion as you work through these exercises.\n",
    "\n",
    "In the somewhat unlikely event that you've somehow stumbled across this notebook outside of its context on GitHub, [you can find the full source code repository here](http://bit.ly/16kGNyb).\n",
    "\n",
    "## Copyright and Licensing\n",
    "\n",
    "You are free to use or adapt this notebook for any purpose you'd like. However, please respect the [Simplified BSD License](https://github.com/ptwobrussell/Mining-the-Social-Web-2nd-Edition/blob/master/LICENSE.txt) that governs its use."
   ]
  },
  {
   "cell_type": "markdown",
   "metadata": {},
   "source": [
    "## Example 1. Programmatically obtaining a personal API access token for accessing GitHub's API"
   ]
  },
  {
   "cell_type": "code",
   "execution_count": 3,
   "metadata": {},
   "outputs": [
    {
     "name": "stdout",
     "output_type": "stream",
     "text": [
      "API response: {\"id\":134831087,\"url\":\"https://api.github.com/authorizations/134831087\",\"app\":{\"name\":\"Mining the Social Web, 2nd Ed.\",\"url\":\"https://developer.github.com/v3/oauth_authorizations/\",\"client_id\":\"00000000000000000000\"},\"token\":\"372bf4fc74882c33eb9696187e96af74329430a8\",\"hashed_token\":\"1e592681abf6d1004ba945a3907cdb078b0ed4c7280dcbff5abe17e9553a042a\",\"token_last_eight\":\"329430a8\",\"note\":\"Mining the Social Web, 2nd Ed.\",\"note_url\":null,\"created_at\":\"2017-10-12T03:46:07Z\",\"updated_at\":\"2017-10-12T03:46:07Z\",\"scopes\":[\"repo\"],\"fingerprint\":null}\n",
      "\n",
      "Your OAuth token is 372bf4fc74882c33eb9696187e96af74329430a8\n"
     ]
    }
   ],
   "source": [
    "\n",
    "import requests\n",
    "from getpass import getpass\n",
    "import json\n",
    "\n",
    "username = 'jaywuYJ' # Your GitHub username\n",
    "password = 'wyj@6609168' # Your GitHub password\n",
    "\n",
    "# Note that credentials will be transmitted over a secure SSL connection\n",
    "url = 'https://api.github.com/authorizations'\n",
    "note = 'Mining the Social Web, 2nd Ed.'\n",
    "post_data = {'scopes':['repo'],'note': note }\n",
    "\n",
    "response = requests.post(\n",
    "    url,\n",
    "    auth = (username, password),\n",
    "    data = json.dumps(post_data),\n",
    "    )   \n",
    "\n",
    "print \"API response:\", response.text\n",
    "print\n",
    "print \"Your OAuth token is\", response.json()['token']\n",
    "\n",
    "# Go to https://github.com/settings/applications to revoke this token"
   ]
  },
  {
   "cell_type": "markdown",
   "metadata": {},
   "source": [
    "## Example 2. Making direct HTTP requests to GitHub's API"
   ]
  },
  {
   "cell_type": "code",
   "execution_count": 4,
   "metadata": {
    "scrolled": true
   },
   "outputs": [
    {
     "name": "stdout",
     "output_type": "stream",
     "text": [
      "{\n",
      " \"following_url\": \"https://api.github.com/users/rdempsey/following{/other_user}\", \n",
      " \"events_url\": \"https://api.github.com/users/rdempsey/events{/privacy}\", \n",
      " \"organizations_url\": \"https://api.github.com/users/rdempsey/orgs\", \n",
      " \"url\": \"https://api.github.com/users/rdempsey\", \n",
      " \"gists_url\": \"https://api.github.com/users/rdempsey/gists{/gist_id}\", \n",
      " \"html_url\": \"https://github.com/rdempsey\", \n",
      " \"subscriptions_url\": \"https://api.github.com/users/rdempsey/subscriptions\", \n",
      " \"avatar_url\": \"https://avatars2.githubusercontent.com/u/224?v=4\", \n",
      " \"repos_url\": \"https://api.github.com/users/rdempsey/repos\", \n",
      " \"received_events_url\": \"https://api.github.com/users/rdempsey/received_events\", \n",
      " \"gravatar_id\": \"\", \n",
      " \"starred_url\": \"https://api.github.com/users/rdempsey/starred{/owner}{/repo}\", \n",
      " \"site_admin\": false, \n",
      " \"login\": \"rdempsey\", \n",
      " \"type\": \"User\", \n",
      " \"id\": 224, \n",
      " \"followers_url\": \"https://api.github.com/users/rdempsey/followers\"\n",
      "}\n",
      "\n",
      "Date => Thu, 12 Oct 2017 03:47:16 GMT\n",
      "Content-Type => application/json; charset=utf-8\n",
      "Transfer-Encoding => chunked\n",
      "Server => GitHub.com\n",
      "Status => 200 OK\n",
      "X-RateLimit-Limit => 5000\n",
      "X-RateLimit-Remaining => 4998\n",
      "X-RateLimit-Reset => 1507783567\n",
      "Cache-Control => private, max-age=60, s-maxage=60\n",
      "Vary => Accept, Authorization, Cookie, X-GitHub-OTP, Accept-Encoding\n",
      "ETag => W/\"b43b2c639758a6849c9f3f5873209038\"\n",
      "X-OAuth-Scopes => repo\n",
      "X-Accepted-OAuth-Scopes => \n",
      "X-GitHub-Media-Type => github.v3; format=json\n",
      "Link => <https://api.github.com/repositories/1040700/stargazers?access_token=372bf4fc74882c33eb9696187e96af74329430a8&page=2>; rel=\"next\", <https://api.github.com/repositories/1040700/stargazers?access_token=372bf4fc74882c33eb9696187e96af74329430a8&page=38>; rel=\"last\"\n",
      "Access-Control-Expose-Headers => ETag, Link, X-GitHub-OTP, X-RateLimit-Limit, X-RateLimit-Remaining, X-RateLimit-Reset, X-OAuth-Scopes, X-Accepted-OAuth-Scopes, X-Poll-Interval\n",
      "Access-Control-Allow-Origin => *\n",
      "Content-Security-Policy => default-src 'none'\n",
      "Strict-Transport-Security => max-age=31536000; includeSubdomains; preload\n",
      "X-Content-Type-Options => nosniff\n",
      "X-Frame-Options => deny\n",
      "X-XSS-Protection => 1; mode=block\n",
      "X-Runtime-rack => 0.222269\n",
      "Content-Encoding => gzip\n",
      "X-GitHub-Request-Id => 0B37:24888:5B7FC98:779164D:59DEE5C3\n"
     ]
    }
   ],
   "source": [
    "import json\n",
    "import requests\n",
    "\n",
    "# An unauthenticated request that doesn't contain an ?access_token=xxx query string\n",
    "url = \"https://api.github.com/repos/ptwobrussell/Mining-the-Social-Web/stargazers?access_token=372bf4fc74882c33eb9696187e96af74329430a8\"\n",
    "response = requests.get(url)\n",
    "\n",
    "# Display one stargazer\n",
    "\n",
    "print json.dumps(response.json()[0], indent=1)\n",
    "print\n",
    "\n",
    "# Display headers\n",
    "for (k,v) in response.headers.items():\n",
    "    print k, \"=>\", v"
   ]
  },
  {
   "cell_type": "markdown",
   "metadata": {},
   "source": [
    "## Example 3. Using PyGithub to query for stargazers of a particular repository"
   ]
  },
  {
   "cell_type": "code",
   "execution_count": 6,
   "metadata": {},
   "outputs": [
    {
     "name": "stdout",
     "output_type": "stream",
     "text": [
      "Number of stargazers 1123\n"
     ]
    }
   ],
   "source": [
    "from github import Github\n",
    "\n",
    "# XXX: Specify your own access token here\n",
    "\n",
    "ACCESS_TOKEN = '372bf4fc74882c33eb9696187e96af74329430a8'\n",
    "\n",
    "# Specify a username and repository of interest for that user.\n",
    "\n",
    "USER = 'ptwobrussell'\n",
    "REPO = 'Mining-the-Social-Web'\n",
    "\n",
    "client = Github(ACCESS_TOKEN, per_page=100)\n",
    "user = client.get_user(USER)\n",
    "repo = user.get_repo(REPO)\n",
    "\n",
    "# Get a list of people who have bookmarked the repo.\n",
    "# Since you'll get a lazy iterator back, you have to traverse\n",
    "# it if you want to get the total number of stargazers.\n",
    "\n",
    "stargazers = [ s for s in repo.get_stargazers() ]\n",
    "print \"Number of stargazers\", len(stargazers)"
   ]
  },
  {
   "cell_type": "markdown",
   "metadata": {},
   "source": [
    "## Example 4. Constructing a trivial property graph"
   ]
  },
  {
   "cell_type": "code",
   "execution_count": 8,
   "metadata": {},
   "outputs": [
    {
     "name": "stdout",
     "output_type": "stream",
     "text": [
      "Name: \n",
      "Type: DiGraph\n",
      "Number of nodes: 2\n",
      "Number of edges: 1\n",
      "Average in degree:   0.5000\n",
      "Average out degree:   0.5000\n",
      "\n",
      "Nodes: ['Y', 'X']\n",
      "Edges: [('X', 'Y')]\n",
      "\n",
      "X props: {}\n",
      "Y props: {}\n",
      "X=>Y props: {}\n",
      "\n",
      "X props: {'prop1': 'value1'}\n",
      "\n",
      "X=>Y props: {'label': 'label1'}\n"
     ]
    }
   ],
   "source": [
    "import networkx as nx\n",
    "\n",
    "# Create a directed graph\n",
    "\n",
    "g = nx.DiGraph()\n",
    "\n",
    "# Add an edge to the directed graph from X to Y\n",
    "\n",
    "g.add_edge('X', 'Y')\n",
    "\n",
    "# Print some statistics about the graph\n",
    "\n",
    "print nx.info(g)\n",
    "print\n",
    "\n",
    "# Get the nodes and edges from the graph\n",
    "\n",
    "print \"Nodes:\", g.nodes()\n",
    "print \"Edges:\", g.edges()\n",
    "print\n",
    "\n",
    "# Get node properties\n",
    "\n",
    "print \"X props:\", g.node['X']\n",
    "print \"Y props:\", g.node['Y']\n",
    "\n",
    "# Get edge properties\n",
    "\n",
    "print \"X=>Y props:\", g['X']['Y']\n",
    "print\n",
    "\n",
    "# Update a node property\n",
    "\n",
    "g.node['X'].update({'prop1' : 'value1'})\n",
    "print \"X props:\", g.node['X']\n",
    "print\n",
    "\n",
    "# Update an edge property\n",
    "\n",
    "g['X']['Y'].update({'label' : 'label1'})\n",
    "print \"X=>Y props:\", g['X']['Y']"
   ]
  },
  {
   "cell_type": "markdown",
   "metadata": {},
   "source": [
    "## Example 5. Constructing an ego graph of a repository and its stargazers"
   ]
  },
  {
   "cell_type": "code",
   "execution_count": 9,
   "metadata": {
    "collapsed": true
   },
   "outputs": [],
   "source": [
    "# Expand the initial graph with (interest) edges pointing each direction for \n",
    "# additional people interested. Take care to ensure that user and repo nodes \n",
    "# do not collide by appending their type.\n",
    "\n",
    "import networkx as nx\n",
    "\n",
    "g = nx.DiGraph()\n",
    "g.add_node(repo.name + '(repo)', type='repo', lang=repo.language, owner=user.login)\n",
    "\n",
    "for sg in stargazers:\n",
    "    g.add_node(sg.login + '(user)', type='user')\n",
    "    g.add_edge(sg.login + '(user)', repo.name + '(repo)', type='gazes')"
   ]
  },
  {
   "cell_type": "markdown",
   "metadata": {},
   "source": [
    "## Example 6. Introducing some handy graph operations"
   ]
  },
  {
   "cell_type": "code",
   "execution_count": 10,
   "metadata": {},
   "outputs": [
    {
     "name": "stdout",
     "output_type": "stream",
     "text": [
      "Name: \n",
      "Type: DiGraph\n",
      "Number of nodes: 1124\n",
      "Number of edges: 1123\n",
      "Average in degree:   0.9991\n",
      "Average out degree:   0.9991\n",
      "\n",
      "{'lang': u'JavaScript', 'owner': u'ptwobrussell', 'type': 'repo'}\n",
      "{'type': 'user'}\n",
      "\n",
      "{'type': 'gazes'}\n",
      "\n",
      "{u'Mining-the-Social-Web(repo)': {'type': 'gazes'}}\n",
      "{}\n",
      "\n",
      "[]\n",
      "[('ptwobrussell(user)', u'Mining-the-Social-Web(repo)')]\n",
      "\n",
      "[(u'yobo000(user)', 'Mining-the-Social-Web(repo)'), (u'gregmoreno(user)', 'Mining-the-Social-Web(repo)'), (u'SathishRaju(user)', 'Mining-the-Social-Web(repo)'), (u'beinvest(user)', 'Mining-the-Social-Web(repo)'), (u'gawry(user)', 'Mining-the-Social-Web(repo)'), (u'decadef20(user)', 'Mining-the-Social-Web(repo)'), (u'darkfall(user)', 'Mining-the-Social-Web(repo)'), (u'daimajia(user)', 'Mining-the-Social-Web(repo)'), (u'henri-nourel(user)', 'Mining-the-Social-Web(repo)'), (u'chihuanqi(user)', 'Mining-the-Social-Web(repo)'), (u'program247365(user)', 'Mining-the-Social-Web(repo)'), (u'xiaodiu2010(user)', 'Mining-the-Social-Web(repo)'), (u'yoghi(user)', 'Mining-the-Social-Web(repo)'), (u'dylanthomas(user)', 'Mining-the-Social-Web(repo)'), (u'EugeneLiang(user)', 'Mining-the-Social-Web(repo)'), (u'longislandicetea(user)', 'Mining-the-Social-Web(repo)'), (u'jagguli(user)', 'Mining-the-Social-Web(repo)'), (u'rgtjf(user)', 'Mining-the-Social-Web(repo)'), (u'daseme(user)', 'Mining-the-Social-Web(repo)'), (u'keokilee(user)', 'Mining-the-Social-Web(repo)'), (u'azuranop(user)', 'Mining-the-Social-Web(repo)'), (u'enriquesanchezb(user)', 'Mining-the-Social-Web(repo)'), (u'jfca(user)', 'Mining-the-Social-Web(repo)'), (u'terry2012(user)', 'Mining-the-Social-Web(repo)'), (u'Big2Cat(user)', 'Mining-the-Social-Web(repo)'), (u'yy(user)', 'Mining-the-Social-Web(repo)'), (u'batasrki(user)', 'Mining-the-Social-Web(repo)'), (u'yhj8341(user)', 'Mining-the-Social-Web(repo)'), (u'zerojarvis(user)', 'Mining-the-Social-Web(repo)'), (u'royburns(user)', 'Mining-the-Social-Web(repo)'), (u'coodoing(user)', 'Mining-the-Social-Web(repo)'), (u'bootstrapt(user)', 'Mining-the-Social-Web(repo)'), (u'ZoomQuiet(user)', 'Mining-the-Social-Web(repo)'), (u'trietptm(user)', 'Mining-the-Social-Web(repo)'), (u'metllord(user)', 'Mining-the-Social-Web(repo)'), (u'flashus(user)', 'Mining-the-Social-Web(repo)'), (u'TomiToivio(user)', 'Mining-the-Social-Web(repo)'), (u'hammer(user)', 'Mining-the-Social-Web(repo)'), (u'paulbersch(user)', 'Mining-the-Social-Web(repo)'), (u'tranminhan(user)', 'Mining-the-Social-Web(repo)'), (u'amckenna(user)', 'Mining-the-Social-Web(repo)'), (u'zihaolucky(user)', 'Mining-the-Social-Web(repo)'), (u'khaing211(user)', 'Mining-the-Social-Web(repo)'), (u'thulio(user)', 'Mining-the-Social-Web(repo)'), (u'virajkulkarni14(user)', 'Mining-the-Social-Web(repo)'), (u'khurchla(user)', 'Mining-the-Social-Web(repo)'), (u'timmyshen(user)', 'Mining-the-Social-Web(repo)'), (u'acadopia(user)', 'Mining-the-Social-Web(repo)'), (u'lesbleus2007(user)', 'Mining-the-Social-Web(repo)'), (u'madsurgeon(user)', 'Mining-the-Social-Web(repo)'), (u'SocialQ(user)', 'Mining-the-Social-Web(repo)'), (u'lemonad(user)', 'Mining-the-Social-Web(repo)'), (u'liuyeliufeng(user)', 'Mining-the-Social-Web(repo)'), (u'yiseul(user)', 'Mining-the-Social-Web(repo)'), (u'heptal(user)', 'Mining-the-Social-Web(repo)'), (u'yanhuaaoaoao(user)', 'Mining-the-Social-Web(repo)'), (u'tertsch(user)', 'Mining-the-Social-Web(repo)'), (u'shuhei(user)', 'Mining-the-Social-Web(repo)'), (u'NandoKstroNet(user)', 'Mining-the-Social-Web(repo)'), (u'mattharrison(user)', 'Mining-the-Social-Web(repo)'), (u'eduardocereto(user)', 'Mining-the-Social-Web(repo)'), (u'holys(user)', 'Mining-the-Social-Web(repo)'), (u'matiskay(user)', 'Mining-the-Social-Web(repo)'), (u'shanlalit(user)', 'Mining-the-Social-Web(repo)'), (u'cl244849315(user)', 'Mining-the-Social-Web(repo)'), (u'andrewdanks(user)', 'Mining-the-Social-Web(repo)'), (u'liulinyang(user)', 'Mining-the-Social-Web(repo)'), (u'rossant(user)', 'Mining-the-Social-Web(repo)'), (u'tayashigenori(user)', 'Mining-the-Social-Web(repo)'), (u'Btibert3(user)', 'Mining-the-Social-Web(repo)'), (u'fakber(user)', 'Mining-the-Social-Web(repo)'), (u'Alexoner(user)', 'Mining-the-Social-Web(repo)'), (u'nine9s(user)', 'Mining-the-Social-Web(repo)'), (u'frac(user)', 'Mining-the-Social-Web(repo)'), (u'FranklinChen(user)', 'Mining-the-Social-Web(repo)'), (u'manesiotise(user)', 'Mining-the-Social-Web(repo)'), (u'riivo(user)', 'Mining-the-Social-Web(repo)'), (u'edfine(user)', 'Mining-the-Social-Web(repo)'), (u'NapalmHorn(user)', 'Mining-the-Social-Web(repo)'), (u'shaobin0604(user)', 'Mining-the-Social-Web(repo)'), (u'paulgoggin(user)', 'Mining-the-Social-Web(repo)'), (u'douglas(user)', 'Mining-the-Social-Web(repo)'), (u'frankk00(user)', 'Mining-the-Social-Web(repo)'), (u'LebronKodan(user)', 'Mining-the-Social-Web(repo)'), (u'yujinw(user)', 'Mining-the-Social-Web(repo)'), (u'wbzyl(user)', 'Mining-the-Social-Web(repo)'), (u'joliva(user)', 'Mining-the-Social-Web(repo)'), (u'rduong(user)', 'Mining-the-Social-Web(repo)'), (u'openp2pdesign(user)', 'Mining-the-Social-Web(repo)'), (u'iwanbk(user)', 'Mining-the-Social-Web(repo)'), (u'bgriffen(user)', 'Mining-the-Social-Web(repo)'), (u'hupili(user)', 'Mining-the-Social-Web(repo)'), (u'ansion103(user)', 'Mining-the-Social-Web(repo)'), (u'eyadsibai(user)', 'Mining-the-Social-Web(repo)'), (u'ardalahmet(user)', 'Mining-the-Social-Web(repo)'), (u'fanggai(user)', 'Mining-the-Social-Web(repo)'), (u'2cside(user)', 'Mining-the-Social-Web(repo)'), (u'ninilxt(user)', 'Mining-the-Social-Web(repo)'), (u'stephen-cernota(user)', 'Mining-the-Social-Web(repo)'), (u'lsinger(user)', 'Mining-the-Social-Web(repo)'), (u'menorki(user)', 'Mining-the-Social-Web(repo)'), (u'dineshj1(user)', 'Mining-the-Social-Web(repo)'), (u'jonathansick(user)', 'Mining-the-Social-Web(repo)'), (u'shurik(user)', 'Mining-the-Social-Web(repo)'), (u'hiorws(user)', 'Mining-the-Social-Web(repo)'), (u'YabinFan(user)', 'Mining-the-Social-Web(repo)'), (u'allengaller(user)', 'Mining-the-Social-Web(repo)'), (u'napo(user)', 'Mining-the-Social-Web(repo)'), (u'ironico(user)', 'Mining-the-Social-Web(repo)'), (u'cnunciato(user)', 'Mining-the-Social-Web(repo)'), (u'jessegahlla(user)', 'Mining-the-Social-Web(repo)'), (u'IWhisper(user)', 'Mining-the-Social-Web(repo)'), (u'stefaneyr(user)', 'Mining-the-Social-Web(repo)'), (u'boringmachine(user)', 'Mining-the-Social-Web(repo)'), (u'pengyutang125(user)', 'Mining-the-Social-Web(repo)'), (u'coronin(user)', 'Mining-the-Social-Web(repo)'), (u'nducoff(user)', 'Mining-the-Social-Web(repo)'), (u'alamsal(user)', 'Mining-the-Social-Web(repo)'), (u'akondylis(user)', 'Mining-the-Social-Web(repo)'), (u'dworznik(user)', 'Mining-the-Social-Web(repo)'), (u'ricardoalmeida(user)', 'Mining-the-Social-Web(repo)'), (u'BENGMN(user)', 'Mining-the-Social-Web(repo)'), (u'nimblemachine(user)', 'Mining-the-Social-Web(repo)'), (u'yicaoyimu(user)', 'Mining-the-Social-Web(repo)'), (u'eojeel(user)', 'Mining-the-Social-Web(repo)'), (u'elg0nz(user)', 'Mining-the-Social-Web(repo)'), (u'kobalis(user)', 'Mining-the-Social-Web(repo)'), (u'todrobbins(user)', 'Mining-the-Social-Web(repo)'), (u'MaggiePlusPlus(user)', 'Mining-the-Social-Web(repo)'), (u'allenwangyuan(user)', 'Mining-the-Social-Web(repo)'), (u'h2rd(user)', 'Mining-the-Social-Web(repo)'), (u'eughenes(user)', 'Mining-the-Social-Web(repo)'), (u'zeutrap(user)', 'Mining-the-Social-Web(repo)'), (u'omoto(user)', 'Mining-the-Social-Web(repo)'), (u'kjelly(user)', 'Mining-the-Social-Web(repo)'), (u'bcambel(user)', 'Mining-the-Social-Web(repo)'), (u'kwaibun(user)', 'Mining-the-Social-Web(repo)'), (u'zaynaib(user)', 'Mining-the-Social-Web(repo)'), (u'neriberto(user)', 'Mining-the-Social-Web(repo)'), (u'booyildirim(user)', 'Mining-the-Social-Web(repo)'), (u'DiegoSan1895(user)', 'Mining-the-Social-Web(repo)'), (u'jatinmistry13(user)', 'Mining-the-Social-Web(repo)'), (u'macdiva(user)', 'Mining-the-Social-Web(repo)'), (u'miku(user)', 'Mining-the-Social-Web(repo)'), (u'yogeshc(user)', 'Mining-the-Social-Web(repo)'), (u'liuyihan(user)', 'Mining-the-Social-Web(repo)'), (u'timelyportfolio(user)', 'Mining-the-Social-Web(repo)'), (u'pensz(user)', 'Mining-the-Social-Web(repo)'), (u'ChrisMcKee(user)', 'Mining-the-Social-Web(repo)'), (u'enulex(user)', 'Mining-the-Social-Web(repo)'), (u'jannson(user)', 'Mining-the-Social-Web(repo)'), (u'amejiarosario(user)', 'Mining-the-Social-Web(repo)'), (u'workspaces(user)', 'Mining-the-Social-Web(repo)'), (u'msonsona(user)', 'Mining-the-Social-Web(repo)'), (u'zhuwenger(user)', 'Mining-the-Social-Web(repo)'), (u'chengdujin(user)', 'Mining-the-Social-Web(repo)'), (u'BrianPin(user)', 'Mining-the-Social-Web(repo)'), (u'gr33ndata(user)', 'Mining-the-Social-Web(repo)'), (u'kuntoaji(user)', 'Mining-the-Social-Web(repo)'), (u'furukama(user)', 'Mining-the-Social-Web(repo)'), (u'vigo(user)', 'Mining-the-Social-Web(repo)'), (u'jonathan-bower(user)', 'Mining-the-Social-Web(repo)'), (u'Erict19(user)', 'Mining-the-Social-Web(repo)'), (u'hanksudo(user)', 'Mining-the-Social-Web(repo)'), (u'CaptSolo(user)', 'Mining-the-Social-Web(repo)'), (u'tianhaocto(user)', 'Mining-the-Social-Web(repo)'), (u'rohithadassanayake(user)', 'Mining-the-Social-Web(repo)'), (u'olovholm(user)', 'Mining-the-Social-Web(repo)'), (u'Jgustavii(user)', 'Mining-the-Social-Web(repo)'), (u'arianpasquali(user)', 'Mining-the-Social-Web(repo)'), (u'abecciu(user)', 'Mining-the-Social-Web(repo)'), (u'jdzeil(user)', 'Mining-the-Social-Web(repo)'), (u'hoffmann(user)', 'Mining-the-Social-Web(repo)'), (u'masdude(user)', 'Mining-the-Social-Web(repo)'), (u'oliverc(user)', 'Mining-the-Social-Web(repo)'), (u'DavidLaoMe(user)', 'Mining-the-Social-Web(repo)'), (u'tomasaftalion(user)', 'Mining-the-Social-Web(repo)'), (u'alfredcai(user)', 'Mining-the-Social-Web(repo)'), (u'robstrange(user)', 'Mining-the-Social-Web(repo)'), (u'ykhroki(user)', 'Mining-the-Social-Web(repo)'), (u'fcojperez(user)', 'Mining-the-Social-Web(repo)'), (u'futurespective(user)', 'Mining-the-Social-Web(repo)'), (u'sleyzerzon(user)', 'Mining-the-Social-Web(repo)'), (u'willddy(user)', 'Mining-the-Social-Web(repo)'), (u'joshz(user)', 'Mining-the-Social-Web(repo)'), (u'iaind(user)', 'Mining-the-Social-Web(repo)'), (u'predmach(user)', 'Mining-the-Social-Web(repo)'), (u'seralf(user)', 'Mining-the-Social-Web(repo)'), (u'seanschang(user)', 'Mining-the-Social-Web(repo)'), (u'chunhuawu(user)', 'Mining-the-Social-Web(repo)'), (u'byjord(user)', 'Mining-the-Social-Web(repo)'), (u'nada(user)', 'Mining-the-Social-Web(repo)'), (u'carlditzler(user)', 'Mining-the-Social-Web(repo)'), (u'qianyanseu(user)', 'Mining-the-Social-Web(repo)'), (u'Brhett(user)', 'Mining-the-Social-Web(repo)'), (u'patrickliu95(user)', 'Mining-the-Social-Web(repo)'), (u'stepmr(user)', 'Mining-the-Social-Web(repo)'), (u'ConceptKreator(user)', 'Mining-the-Social-Web(repo)'), (u'miyaso(user)', 'Mining-the-Social-Web(repo)'), (u'bugrax(user)', 'Mining-the-Social-Web(repo)'), (u'michalbcz(user)', 'Mining-the-Social-Web(repo)'), (u'majahn(user)', 'Mining-the-Social-Web(repo)'), (u'surecc(user)', 'Mining-the-Social-Web(repo)'), (u'allen3921(user)', 'Mining-the-Social-Web(repo)'), (u'guoxiaoding(user)', 'Mining-the-Social-Web(repo)'), (u'NikhilKodilkar(user)', 'Mining-the-Social-Web(repo)'), (u'parama(user)', 'Mining-the-Social-Web(repo)'), (u'Sdmattpotter(user)', 'Mining-the-Social-Web(repo)'), (u'iccupzerg(user)', 'Mining-the-Social-Web(repo)'), (u'kiogo(user)', 'Mining-the-Social-Web(repo)'), (u'joeyxluca(user)', 'Mining-the-Social-Web(repo)'), (u'miukal(user)', 'Mining-the-Social-Web(repo)'), (u'MorphZhou(user)', 'Mining-the-Social-Web(repo)'), (u'Sophie521(user)', 'Mining-the-Social-Web(repo)'), (u'mike-grayhat(user)', 'Mining-the-Social-Web(repo)'), (u'andypiper(user)', 'Mining-the-Social-Web(repo)'), (u'UniIsland(user)', 'Mining-the-Social-Web(repo)'), (u'futan(user)', 'Mining-the-Social-Web(repo)'), (u'mengD(user)', 'Mining-the-Social-Web(repo)'), (u'mchoimis(user)', 'Mining-the-Social-Web(repo)'), (u'kshimo69(user)', 'Mining-the-Social-Web(repo)'), (u'liang456(user)', 'Mining-the-Social-Web(repo)'), (u'bearzx(user)', 'Mining-the-Social-Web(repo)'), (u'sfrench(user)', 'Mining-the-Social-Web(repo)'), (u'downrightmike(user)', 'Mining-the-Social-Web(repo)'), (u'johnthebrave(user)', 'Mining-the-Social-Web(repo)'), (u'rukku(user)', 'Mining-the-Social-Web(repo)'), (u'yul11a(user)', 'Mining-the-Social-Web(repo)'), (u'zakobyte(user)', 'Mining-the-Social-Web(repo)'), (u'machenxi666(user)', 'Mining-the-Social-Web(repo)'), (u'erainey(user)', 'Mining-the-Social-Web(repo)'), (u'skyserpent(user)', 'Mining-the-Social-Web(repo)'), (u'cjf4(user)', 'Mining-the-Social-Web(repo)'), (u'tigerjh(user)', 'Mining-the-Social-Web(repo)'), (u'rasper121(user)', 'Mining-the-Social-Web(repo)'), (u'zolizoli(user)', 'Mining-the-Social-Web(repo)'), (u'1rick(user)', 'Mining-the-Social-Web(repo)'), (u'nikolay(user)', 'Mining-the-Social-Web(repo)'), (u'acdha(user)', 'Mining-the-Social-Web(repo)'), (u'chilijung(user)', 'Mining-the-Social-Web(repo)'), (u'jodyabney(user)', 'Mining-the-Social-Web(repo)'), (u'ngpestelos(user)', 'Mining-the-Social-Web(repo)'), (u'callard(user)', 'Mining-the-Social-Web(repo)'), (u'ymirpl(user)', 'Mining-the-Social-Web(repo)'), (u'ukituki(user)', 'Mining-the-Social-Web(repo)'), (u'tayf(user)', 'Mining-the-Social-Web(repo)'), (u'KevinOfNeu(user)', 'Mining-the-Social-Web(repo)'), (u'pietrolo(user)', 'Mining-the-Social-Web(repo)'), (u'ysfseu(user)', 'Mining-the-Social-Web(repo)'), (u'dhiemazt(user)', 'Mining-the-Social-Web(repo)'), (u'kadnan(user)', 'Mining-the-Social-Web(repo)'), (u'ethanhu(user)', 'Mining-the-Social-Web(repo)'), (u'milmazz(user)', 'Mining-the-Social-Web(repo)'), (u'willi(user)', 'Mining-the-Social-Web(repo)'), (u'digvan(user)', 'Mining-the-Social-Web(repo)'), (u'JacekAmbroziak(user)', 'Mining-the-Social-Web(repo)'), (u'singit(user)', 'Mining-the-Social-Web(repo)'), (u'dasfaha(user)', 'Mining-the-Social-Web(repo)'), (u'deusnet(user)', 'Mining-the-Social-Web(repo)'), (u'brunojm(user)', 'Mining-the-Social-Web(repo)'), (u'themiurgo(user)', 'Mining-the-Social-Web(repo)'), (u'sirithink(user)', 'Mining-the-Social-Web(repo)'), (u'maxtheman(user)', 'Mining-the-Social-Web(repo)'), (u'subrays(user)', 'Mining-the-Social-Web(repo)'), (u'jerryyeezus(user)', 'Mining-the-Social-Web(repo)'), (u'wmswu(user)', 'Mining-the-Social-Web(repo)'), (u'whuwy(user)', 'Mining-the-Social-Web(repo)'), (u'kennethreitz(user)', 'Mining-the-Social-Web(repo)'), (u'tonez(user)', 'Mining-the-Social-Web(repo)'), (u'studiomaestro(user)', 'Mining-the-Social-Web(repo)'), (u'carlvlewis(user)', 'Mining-the-Social-Web(repo)'), (u'vanderwal(user)', 'Mining-the-Social-Web(repo)'), (u'8HNHoFtE(user)', 'Mining-the-Social-Web(repo)'), (u'extremecasey(user)', 'Mining-the-Social-Web(repo)'), (u'jakobzhao(user)', 'Mining-the-Social-Web(repo)'), (u'lvwangbeta(user)', 'Mining-the-Social-Web(repo)'), (u'raoulwissink(user)', 'Mining-the-Social-Web(repo)'), (u'edglazer(user)', 'Mining-the-Social-Web(repo)'), (u'sffafa(user)', 'Mining-the-Social-Web(repo)'), (u'rdempsey(user)', 'Mining-the-Social-Web(repo)'), (u'gcornejo(user)', 'Mining-the-Social-Web(repo)'), (u'redswallow(user)', 'Mining-the-Social-Web(repo)'), (u'qweee(user)', 'Mining-the-Social-Web(repo)'), (u'BrentAuble(user)', 'Mining-the-Social-Web(repo)'), (u'janetyc(user)', 'Mining-the-Social-Web(repo)'), (u'wanpiqiao(user)', 'Mining-the-Social-Web(repo)'), (u'liuqun(user)', 'Mining-the-Social-Web(repo)'), (u'blackerby(user)', 'Mining-the-Social-Web(repo)'), (u'thaifdotme(user)', 'Mining-the-Social-Web(repo)'), (u'daemianmack(user)', 'Mining-the-Social-Web(repo)'), (u'bpeirce(user)', 'Mining-the-Social-Web(repo)'), (u'ikari-pl(user)', 'Mining-the-Social-Web(repo)'), (u'Tuxified(user)', 'Mining-the-Social-Web(repo)'), (u'0x27(user)', 'Mining-the-Social-Web(repo)'), (u'andreypaa(user)', 'Mining-the-Social-Web(repo)'), (u'gregrahn(user)', 'Mining-the-Social-Web(repo)'), (u'mountcrow(user)', 'Mining-the-Social-Web(repo)'), (u'Prufrock1(user)', 'Mining-the-Social-Web(repo)'), (u'zhangwenkang(user)', 'Mining-the-Social-Web(repo)'), (u'mrmvergeer(user)', 'Mining-the-Social-Web(repo)'), (u'sofianhw(user)', 'Mining-the-Social-Web(repo)'), (u'folkengine(user)', 'Mining-the-Social-Web(repo)'), (u'ramkrsna(user)', 'Mining-the-Social-Web(repo)'), (u'likaiguo(user)', 'Mining-the-Social-Web(repo)'), (u'cyrusin(user)', 'Mining-the-Social-Web(repo)'), (u'bryantology(user)', 'Mining-the-Social-Web(repo)'), (u'joeywen(user)', 'Mining-the-Social-Web(repo)'), (u'NexZhu(user)', 'Mining-the-Social-Web(repo)'), (u'slojo404(user)', 'Mining-the-Social-Web(repo)'), (u'negrond(user)', 'Mining-the-Social-Web(repo)'), (u'myditto(user)', 'Mining-the-Social-Web(repo)'), (u'yuxwmail(user)', 'Mining-the-Social-Web(repo)'), (u'anirudhjoshi(user)', 'Mining-the-Social-Web(repo)'), (u'Doppp(user)', 'Mining-the-Social-Web(repo)'), (u'souri(user)', 'Mining-the-Social-Web(repo)'), (u'bcattle(user)', 'Mining-the-Social-Web(repo)'), (u'lzsdodo(user)', 'Mining-the-Social-Web(repo)'), (u'sumnous(user)', 'Mining-the-Social-Web(repo)'), (u'sp0rus(user)', 'Mining-the-Social-Web(repo)'), (u'johnymontana(user)', 'Mining-the-Social-Web(repo)'), (u'manboubird(user)', 'Mining-the-Social-Web(repo)'), (u'jumping(user)', 'Mining-the-Social-Web(repo)'), (u'girish(user)', 'Mining-the-Social-Web(repo)'), (u'caseysoftware(user)', 'Mining-the-Social-Web(repo)'), (u'rohithjyothish(user)', 'Mining-the-Social-Web(repo)'), (u'edtechdev(user)', 'Mining-the-Social-Web(repo)'), (u'jwsy(user)', 'Mining-the-Social-Web(repo)'), (u'jhaus(user)', 'Mining-the-Social-Web(repo)'), (u'jtmhom88(user)', 'Mining-the-Social-Web(repo)'), (u'Thawab(user)', 'Mining-the-Social-Web(repo)'), (u'jah2488(user)', 'Mining-the-Social-Web(repo)'), (u'tswicegood(user)', 'Mining-the-Social-Web(repo)'), (u'sfahad46(user)', 'Mining-the-Social-Web(repo)'), (u'adivik2000(user)', 'Mining-the-Social-Web(repo)'), (u'masamik(user)', 'Mining-the-Social-Web(repo)'), (u'quakerpunk(user)', 'Mining-the-Social-Web(repo)'), (u'MorLong(user)', 'Mining-the-Social-Web(repo)'), (u'PendletonJones(user)', 'Mining-the-Social-Web(repo)'), (u'pedrohserrano(user)', 'Mining-the-Social-Web(repo)'), (u'prod-man(user)', 'Mining-the-Social-Web(repo)'), (u'hejibo(user)', 'Mining-the-Social-Web(repo)'), (u'cwz8202(user)', 'Mining-the-Social-Web(repo)'), (u'disappearedgod(user)', 'Mining-the-Social-Web(repo)'), (u'jpendry(user)', 'Mining-the-Social-Web(repo)'), (u'michaelwills(user)', 'Mining-the-Social-Web(repo)'), (u'ehmo(user)', 'Mining-the-Social-Web(repo)'), (u'yinbing668(user)', 'Mining-the-Social-Web(repo)'), (u'cobblest(user)', 'Mining-the-Social-Web(repo)'), (u'nacht(user)', 'Mining-the-Social-Web(repo)'), (u'jgarza(user)', 'Mining-the-Social-Web(repo)'), (u'rytis(user)', 'Mining-the-Social-Web(repo)'), (u'dotpot(user)', 'Mining-the-Social-Web(repo)'), (u'roppen(user)', 'Mining-the-Social-Web(repo)'), (u'torazuka(user)', 'Mining-the-Social-Web(repo)'), (u'elbasha751(user)', 'Mining-the-Social-Web(repo)'), (u'sabanana(user)', 'Mining-the-Social-Web(repo)'), (u'RahilKaul(user)', 'Mining-the-Social-Web(repo)'), (u'paxan(user)', 'Mining-the-Social-Web(repo)'), (u'cb372(user)', 'Mining-the-Social-Web(repo)'), (u'ZwyAnswer(user)', 'Mining-the-Social-Web(repo)'), (u'dayu321(user)', 'Mining-the-Social-Web(repo)'), (u'IAbuElRuzz(user)', 'Mining-the-Social-Web(repo)'), (u'Almad(user)', 'Mining-the-Social-Web(repo)'), (u'ndarville(user)', 'Mining-the-Social-Web(repo)'), (u'magnum(user)', 'Mining-the-Social-Web(repo)'), (u'jean(user)', 'Mining-the-Social-Web(repo)'), (u'ALICE5(user)', 'Mining-the-Social-Web(repo)'), (u'gkhnlts(user)', 'Mining-the-Social-Web(repo)'), (u'chunkplus(user)', 'Mining-the-Social-Web(repo)'), (u'barbietunnie(user)', 'Mining-the-Social-Web(repo)'), (u'ywdong(user)', 'Mining-the-Social-Web(repo)'), (u'hanula(user)', 'Mining-the-Social-Web(repo)'), (u'kkovacs(user)', 'Mining-the-Social-Web(repo)'), (u'phauly(user)', 'Mining-the-Social-Web(repo)'), (u'BillBai(user)', 'Mining-the-Social-Web(repo)'), (u'WoeseDevelopers(user)', 'Mining-the-Social-Web(repo)'), (u'paulhoule(user)', 'Mining-the-Social-Web(repo)'), (u'savourylie(user)', 'Mining-the-Social-Web(repo)'), (u'jlcarvalho(user)', 'Mining-the-Social-Web(repo)'), (u'gnqm(user)', 'Mining-the-Social-Web(repo)'), (u'rickixie(user)', 'Mining-the-Social-Web(repo)'), (u'guoylyy(user)', 'Mining-the-Social-Web(repo)'), (u'ken-ton(user)', 'Mining-the-Social-Web(repo)'), (u'elidupuis(user)', 'Mining-the-Social-Web(repo)'), (u'cameronpriest(user)', 'Mining-the-Social-Web(repo)'), (u'treper(user)', 'Mining-the-Social-Web(repo)'), (u'ahmads(user)', 'Mining-the-Social-Web(repo)'), (u'flyabroad(user)', 'Mining-the-Social-Web(repo)'), (u'csuper(user)', 'Mining-the-Social-Web(repo)'), (u'momota10(user)', 'Mining-the-Social-Web(repo)'), (u'ykakihara(user)', 'Mining-the-Social-Web(repo)'), (u'cmcgovern(user)', 'Mining-the-Social-Web(repo)'), (u'Huiyang520(user)', 'Mining-the-Social-Web(repo)'), (u'jmshoffs0812(user)', 'Mining-the-Social-Web(repo)'), (u'dgryski(user)', 'Mining-the-Social-Web(repo)'), (u'zhangscth(user)', 'Mining-the-Social-Web(repo)'), (u'samuel(user)', 'Mining-the-Social-Web(repo)'), (u'collardb(user)', 'Mining-the-Social-Web(repo)'), (u'joohnnie(user)', 'Mining-the-Social-Web(repo)'), (u'mapio(user)', 'Mining-the-Social-Web(repo)'), (u'gavinmh(user)', 'Mining-the-Social-Web(repo)'), (u'lg2046(user)', 'Mining-the-Social-Web(repo)'), (u'mmccaff(user)', 'Mining-the-Social-Web(repo)'), (u'shancci(user)', 'Mining-the-Social-Web(repo)'), (u'isnowfy(user)', 'Mining-the-Social-Web(repo)'), (u'bzak(user)', 'Mining-the-Social-Web(repo)'), (u'bjzu(user)', 'Mining-the-Social-Web(repo)'), (u'miyucy(user)', 'Mining-the-Social-Web(repo)'), (u'FGRibreau(user)', 'Mining-the-Social-Web(repo)'), (u'zonovo(user)', 'Mining-the-Social-Web(repo)'), (u'awb99(user)', 'Mining-the-Social-Web(repo)'), (u'mgrouchy(user)', 'Mining-the-Social-Web(repo)'), (u'matagus(user)', 'Mining-the-Social-Web(repo)'), (u'georgebellos(user)', 'Mining-the-Social-Web(repo)'), (u'myhomepc(user)', 'Mining-the-Social-Web(repo)'), (u'tokestermw(user)', 'Mining-the-Social-Web(repo)'), (u'lincolinnyan(user)', 'Mining-the-Social-Web(repo)'), (u'hackrole(user)', 'Mining-the-Social-Web(repo)'), (u'mkdotam(user)', 'Mining-the-Social-Web(repo)'), (u'mrblack555(user)', 'Mining-the-Social-Web(repo)'), (u'tttxxx(user)', 'Mining-the-Social-Web(repo)'), (u'redy(user)', 'Mining-the-Social-Web(repo)'), (u'shenli(user)', 'Mining-the-Social-Web(repo)'), (u'temberature(user)', 'Mining-the-Social-Web(repo)'), (u'funwalla(user)', 'Mining-the-Social-Web(repo)'), (u'ocowchun(user)', 'Mining-the-Social-Web(repo)'), (u'PowChow(user)', 'Mining-the-Social-Web(repo)'), (u'nordhuang(user)', 'Mining-the-Social-Web(repo)'), (u'pkrishnaprasad(user)', 'Mining-the-Social-Web(repo)'), (u'CityFire(user)', 'Mining-the-Social-Web(repo)'), (u'springga(user)', 'Mining-the-Social-Web(repo)'), (u'csuzhangxc(user)', 'Mining-the-Social-Web(repo)'), (u'gcavallanti(user)', 'Mining-the-Social-Web(repo)'), (u'InFog(user)', 'Mining-the-Social-Web(repo)'), (u'natorro(user)', 'Mining-the-Social-Web(repo)'), (u'ningandma(user)', 'Mining-the-Social-Web(repo)'), (u'wuhao4u(user)', 'Mining-the-Social-Web(repo)'), (u'morpheme(user)', 'Mining-the-Social-Web(repo)'), (u'rabbit-run(user)', 'Mining-the-Social-Web(repo)'), (u'chishaku(user)', 'Mining-the-Social-Web(repo)'), (u'daevid(user)', 'Mining-the-Social-Web(repo)'), (u'lyl7225(user)', 'Mining-the-Social-Web(repo)'), (u'macorama(user)', 'Mining-the-Social-Web(repo)'), (u'844792418(user)', 'Mining-the-Social-Web(repo)'), (u'javouhey(user)', 'Mining-the-Social-Web(repo)'), (u'mhaidarh(user)', 'Mining-the-Social-Web(repo)'), (u'pparo(user)', 'Mining-the-Social-Web(repo)'), (u'opexxx(user)', 'Mining-the-Social-Web(repo)'), (u'jengdal(user)', 'Mining-the-Social-Web(repo)'), (u'chlalanne(user)', 'Mining-the-Social-Web(repo)'), (u'jcprandini(user)', 'Mining-the-Social-Web(repo)'), (u'joepestro(user)', 'Mining-the-Social-Web(repo)'), (u'theresia(user)', 'Mining-the-Social-Web(repo)'), (u'twidi(user)', 'Mining-the-Social-Web(repo)'), (u'peicheng(user)', 'Mining-the-Social-Web(repo)'), (u'gabstehr(user)', 'Mining-the-Social-Web(repo)'), (u'astergu(user)', 'Mining-the-Social-Web(repo)'), (u'eujinkim(user)', 'Mining-the-Social-Web(repo)'), (u'scollection(user)', 'Mining-the-Social-Web(repo)'), (u'eddygreen(user)', 'Mining-the-Social-Web(repo)'), (u'aburan28(user)', 'Mining-the-Social-Web(repo)'), (u'slimsymphony(user)', 'Mining-the-Social-Web(repo)'), (u'oweidner(user)', 'Mining-the-Social-Web(repo)'), (u'polonia(user)', 'Mining-the-Social-Web(repo)'), (u'benjikraft(user)', 'Mining-the-Social-Web(repo)'), (u'anentropic(user)', 'Mining-the-Social-Web(repo)'), (u'freemandealer(user)', 'Mining-the-Social-Web(repo)'), (u'xxllp(user)', 'Mining-the-Social-Web(repo)'), (u'omg(user)', 'Mining-the-Social-Web(repo)'), (u'JonWeinberg(user)', 'Mining-the-Social-Web(repo)'), (u'ticean(user)', 'Mining-the-Social-Web(repo)'), (u'rgaidot(user)', 'Mining-the-Social-Web(repo)'), (u'mtchang(user)', 'Mining-the-Social-Web(repo)'), (u'dcloud(user)', 'Mining-the-Social-Web(repo)'), (u'danieljjh(user)', 'Mining-the-Social-Web(repo)'), (u'shuxue051(user)', 'Mining-the-Social-Web(repo)'), (u'archerooo(user)', 'Mining-the-Social-Web(repo)'), (u'lifeforaiur(user)', 'Mining-the-Social-Web(repo)'), (u'lilylabo(user)', 'Mining-the-Social-Web(repo)'), (u'wendyran(user)', 'Mining-the-Social-Web(repo)'), (u'toori67(user)', 'Mining-the-Social-Web(repo)'), (u'waleking(user)', 'Mining-the-Social-Web(repo)'), (u'pdailey(user)', 'Mining-the-Social-Web(repo)'), (u'theinfonerd(user)', 'Mining-the-Social-Web(repo)'), (u'aminert(user)', 'Mining-the-Social-Web(repo)'), (u'pedrokoblitz(user)', 'Mining-the-Social-Web(repo)'), (u'waterfox0323(user)', 'Mining-the-Social-Web(repo)'), (u'brianjolly(user)', 'Mining-the-Social-Web(repo)'), (u'geojackass(user)', 'Mining-the-Social-Web(repo)'), (u'jlmvale(user)', 'Mining-the-Social-Web(repo)'), (u'hz2003(user)', 'Mining-the-Social-Web(repo)'), (u'phildionne(user)', 'Mining-the-Social-Web(repo)'), (u'jineshpaloor(user)', 'Mining-the-Social-Web(repo)'), (u'bobdia(user)', 'Mining-the-Social-Web(repo)'), (u'PittyXu(user)', 'Mining-the-Social-Web(repo)'), (u'prashanthmcr(user)', 'Mining-the-Social-Web(repo)'), (u'audijenz(user)', 'Mining-the-Social-Web(repo)'), (u'ackratos(user)', 'Mining-the-Social-Web(repo)'), (u'vfulco(user)', 'Mining-the-Social-Web(repo)'), (u'jackxu(user)', 'Mining-the-Social-Web(repo)'), (u'webmaven(user)', 'Mining-the-Social-Web(repo)'), (u'gracaninja(user)', 'Mining-the-Social-Web(repo)'), (u'capricasix(user)', 'Mining-the-Social-Web(repo)'), (u'ejur4s(user)', 'Mining-the-Social-Web(repo)'), (u'softpurkelly(user)', 'Mining-the-Social-Web(repo)'), (u'anbrandt(user)', 'Mining-the-Social-Web(repo)'), (u'JacobWK(user)', 'Mining-the-Social-Web(repo)'), (u'rickschmoo(user)', 'Mining-the-Social-Web(repo)'), (u'douglas-larocca(user)', 'Mining-the-Social-Web(repo)'), (u'shotaatago(user)', 'Mining-the-Social-Web(repo)'), (u'csjones(user)', 'Mining-the-Social-Web(repo)'), (u'hisuley(user)', 'Mining-the-Social-Web(repo)'), (u'sakares(user)', 'Mining-the-Social-Web(repo)'), (u'ndunnage(user)', 'Mining-the-Social-Web(repo)'), (u'davni(user)', 'Mining-the-Social-Web(repo)'), (u'pqnga(user)', 'Mining-the-Social-Web(repo)'), (u'mistahBen(user)', 'Mining-the-Social-Web(repo)'), (u'kibernick(user)', 'Mining-the-Social-Web(repo)'), (u'fozbaca(user)', 'Mining-the-Social-Web(repo)'), (u'nycterent(user)', 'Mining-the-Social-Web(repo)'), (u'lucassbgomes(user)', 'Mining-the-Social-Web(repo)'), (u'Derick13(user)', 'Mining-the-Social-Web(repo)'), (u'nisc(user)', 'Mining-the-Social-Web(repo)'), (u'LeandroAlmeida(user)', 'Mining-the-Social-Web(repo)'), (u'cenphoenix(user)', 'Mining-the-Social-Web(repo)'), (u'akton(user)', 'Mining-the-Social-Web(repo)'), (u'mpac(user)', 'Mining-the-Social-Web(repo)'), (u'openweb(user)', 'Mining-the-Social-Web(repo)'), (u'Doomking(user)', 'Mining-the-Social-Web(repo)'), (u'taoyu(user)', 'Mining-the-Social-Web(repo)'), (u'mt3(user)', 'Mining-the-Social-Web(repo)'), (u'briatte(user)', 'Mining-the-Social-Web(repo)'), (u'empjustine(user)', 'Mining-the-Social-Web(repo)'), (u'twneale(user)', 'Mining-the-Social-Web(repo)'), (u'chu052(user)', 'Mining-the-Social-Web(repo)'), (u'zambrose(user)', 'Mining-the-Social-Web(repo)'), (u'shockley(user)', 'Mining-the-Social-Web(repo)'), (u'billday(user)', 'Mining-the-Social-Web(repo)'), (u'chengen(user)', 'Mining-the-Social-Web(repo)'), (u'deepblue-phoenix(user)', 'Mining-the-Social-Web(repo)'), (u'LJ001(user)', 'Mining-the-Social-Web(repo)'), (u'pantelis(user)', 'Mining-the-Social-Web(repo)'), (u'ssingh10(user)', 'Mining-the-Social-Web(repo)'), (u'cacciaresi(user)', 'Mining-the-Social-Web(repo)'), (u'Basphil(user)', 'Mining-the-Social-Web(repo)'), (u'LawrencePeng(user)', 'Mining-the-Social-Web(repo)'), (u'rosco5(user)', 'Mining-the-Social-Web(repo)'), (u'hectoregm(user)', 'Mining-the-Social-Web(repo)'), (u'bnvk(user)', 'Mining-the-Social-Web(repo)'), (u'bisko(user)', 'Mining-the-Social-Web(repo)'), (u'davidrd123(user)', 'Mining-the-Social-Web(repo)'), (u'w1mvy(user)', 'Mining-the-Social-Web(repo)'), (u'laixintao(user)', 'Mining-the-Social-Web(repo)'), (u'stumm(user)', 'Mining-the-Social-Web(repo)'), (u'arthur-e(user)', 'Mining-the-Social-Web(repo)'), (u'maysarax(user)', 'Mining-the-Social-Web(repo)'), (u'liule(user)', 'Mining-the-Social-Web(repo)'), (u'slaporte(user)', 'Mining-the-Social-Web(repo)'), (u'vmharrel(user)', 'Mining-the-Social-Web(repo)'), (u'xinnan(user)', 'Mining-the-Social-Web(repo)'), (u'Linusp(user)', 'Mining-the-Social-Web(repo)'), (u'aboutaaron(user)', 'Mining-the-Social-Web(repo)'), (u'omarayad1(user)', 'Mining-the-Social-Web(repo)'), (u'dougapd(user)', 'Mining-the-Social-Web(repo)'), (u'ggarlic(user)', 'Mining-the-Social-Web(repo)'), (u'zhurizhe(user)', 'Mining-the-Social-Web(repo)'), (u'scorpiohjx(user)', 'Mining-the-Social-Web(repo)'), (u'bendaizer(user)', 'Mining-the-Social-Web(repo)'), (u'valentinzberea(user)', 'Mining-the-Social-Web(repo)'), (u'chaoticjoy(user)', 'Mining-the-Social-Web(repo)'), (u'ekanol(user)', 'Mining-the-Social-Web(repo)'), (u'xiaxianzhi(user)', 'Mining-the-Social-Web(repo)'), (u'Ethan-Zh(user)', 'Mining-the-Social-Web(repo)'), (u'phillpafford(user)', 'Mining-the-Social-Web(repo)'), (u'paulkfc(user)', 'Mining-the-Social-Web(repo)'), (u'onozka(user)', 'Mining-the-Social-Web(repo)'), (u'shiftone1001(user)', 'Mining-the-Social-Web(repo)'), (u'samuelleach(user)', 'Mining-the-Social-Web(repo)'), (u'campeterson(user)', 'Mining-the-Social-Web(repo)'), (u'gar(user)', 'Mining-the-Social-Web(repo)'), (u'chrisapril(user)', 'Mining-the-Social-Web(repo)'), (u'AshBT(user)', 'Mining-the-Social-Web(repo)'), (u'yangzhandong999(user)', 'Mining-the-Social-Web(repo)'), (u'brooklynrob(user)', 'Mining-the-Social-Web(repo)'), (u'sandyleo26(user)', 'Mining-the-Social-Web(repo)'), (u'albertsun(user)', 'Mining-the-Social-Web(repo)'), (u'gravitymonkey(user)', 'Mining-the-Social-Web(repo)'), (u'zkl94(user)', 'Mining-the-Social-Web(repo)'), (u'pygloo(user)', 'Mining-the-Social-Web(repo)'), (u'knightmind(user)', 'Mining-the-Social-Web(repo)'), (u'awolfly9(user)', 'Mining-the-Social-Web(repo)'), (u'seancron(user)', 'Mining-the-Social-Web(repo)'), (u'velthuis(user)', 'Mining-the-Social-Web(repo)'), (u'jgrosche(user)', 'Mining-the-Social-Web(repo)'), (u'fone4u(user)', 'Mining-the-Social-Web(repo)'), (u'KRostyslav(user)', 'Mining-the-Social-Web(repo)'), (u'fangjq(user)', 'Mining-the-Social-Web(repo)'), (u'VagrantStory(user)', 'Mining-the-Social-Web(repo)'), (u'judywawira(user)', 'Mining-the-Social-Web(repo)'), (u'ngopal(user)', 'Mining-the-Social-Web(repo)'), (u'norri(user)', 'Mining-the-Social-Web(repo)'), (u'DanielleSucher(user)', 'Mining-the-Social-Web(repo)'), (u'amitagrawal(user)', 'Mining-the-Social-Web(repo)'), (u'iroid(user)', 'Mining-the-Social-Web(repo)'), (u'Zolomon(user)', 'Mining-the-Social-Web(repo)'), (u'rsmoz(user)', 'Mining-the-Social-Web(repo)'), (u'bngoogle(user)', 'Mining-the-Social-Web(repo)'), (u'mfalcon(user)', 'Mining-the-Social-Web(repo)'), (u'panckreous(user)', 'Mining-the-Social-Web(repo)'), (u'nipengadmaster(user)', 'Mining-the-Social-Web(repo)'), (u'albhardy(user)', 'Mining-the-Social-Web(repo)'), (u'michaeldhealy(user)', 'Mining-the-Social-Web(repo)'), (u'jinalee2531(user)', 'Mining-the-Social-Web(repo)'), (u'rabit(user)', 'Mining-the-Social-Web(repo)'), (u'macdet(user)', 'Mining-the-Social-Web(repo)'), (u'analyticsPierce(user)', 'Mining-the-Social-Web(repo)'), (u'liuyix(user)', 'Mining-the-Social-Web(repo)'), (u'mikedorseyjr(user)', 'Mining-the-Social-Web(repo)'), (u'zhouzhuojie(user)', 'Mining-the-Social-Web(repo)'), (u'ChengjinLi(user)', 'Mining-the-Social-Web(repo)'), (u'hellysmile(user)', 'Mining-the-Social-Web(repo)'), (u'bnerDY(user)', 'Mining-the-Social-Web(repo)'), (u'jingle(user)', 'Mining-the-Social-Web(repo)'), (u'Gonzillaaa(user)', 'Mining-the-Social-Web(repo)'), (u'lrvick(user)', 'Mining-the-Social-Web(repo)'), (u'daveturnbull(user)', 'Mining-the-Social-Web(repo)'), (u'umaar(user)', 'Mining-the-Social-Web(repo)'), (u'donigian(user)', 'Mining-the-Social-Web(repo)'), (u'japerk(user)', 'Mining-the-Social-Web(repo)'), (u'danielmavi(user)', 'Mining-the-Social-Web(repo)'), (u'elimisteve(user)', 'Mining-the-Social-Web(repo)'), (u'Imior(user)', 'Mining-the-Social-Web(repo)'), (u'ismaild(user)', 'Mining-the-Social-Web(repo)'), (u'feedmecookies(user)', 'Mining-the-Social-Web(repo)'), (u'cicuz(user)', 'Mining-the-Social-Web(repo)'), (u'gerad(user)', 'Mining-the-Social-Web(repo)'), (u'valdergallo(user)', 'Mining-the-Social-Web(repo)'), (u'rnagle(user)', 'Mining-the-Social-Web(repo)'), (u'subasish(user)', 'Mining-the-Social-Web(repo)'), (u'jeffmaxton(user)', 'Mining-the-Social-Web(repo)'), (u'mdyang(user)', 'Mining-the-Social-Web(repo)'), (u'semerda(user)', 'Mining-the-Social-Web(repo)'), (u'nishant8BITS(user)', 'Mining-the-Social-Web(repo)'), (u'steverife(user)', 'Mining-the-Social-Web(repo)'), (u'nabeelmukhtar(user)', 'Mining-the-Social-Web(repo)'), (u'vulcangz(user)', 'Mining-the-Social-Web(repo)'), (u'mtfelix(user)', 'Mining-the-Social-Web(repo)'), (u'chc170(user)', 'Mining-the-Social-Web(repo)'), (u'Prateek2901(user)', 'Mining-the-Social-Web(repo)'), (u'flyer103(user)', 'Mining-the-Social-Web(repo)'), (u'marctmiller(user)', 'Mining-the-Social-Web(repo)'), (u'huangliang2211(user)', 'Mining-the-Social-Web(repo)'), (u'hisakato(user)', 'Mining-the-Social-Web(repo)'), (u'xiaopang1001(user)', 'Mining-the-Social-Web(repo)'), (u'klous(user)', 'Mining-the-Social-Web(repo)'), (u'hertzel(user)', 'Mining-the-Social-Web(repo)'), (u'bolaft(user)', 'Mining-the-Social-Web(repo)'), (u'kharakawa(user)', 'Mining-the-Social-Web(repo)'), (u'kencochrane(user)', 'Mining-the-Social-Web(repo)'), (u'GuosongChen(user)', 'Mining-the-Social-Web(repo)'), (u'pentium3(user)', 'Mining-the-Social-Web(repo)'), (u'carhartl(user)', 'Mining-the-Social-Web(repo)'), (u'mkhDev(user)', 'Mining-the-Social-Web(repo)'), (u'LucianaLu(user)', 'Mining-the-Social-Web(repo)'), (u'angusshire(user)', 'Mining-the-Social-Web(repo)'), (u'IvanaXu(user)', 'Mining-the-Social-Web(repo)'), (u'buffpojken(user)', 'Mining-the-Social-Web(repo)'), (u'JesusGuzman(user)', 'Mining-the-Social-Web(repo)'), (u'jakubroztocil(user)', 'Mining-the-Social-Web(repo)'), (u'ardendertat(user)', 'Mining-the-Social-Web(repo)'), (u'sudheervazrapu(user)', 'Mining-the-Social-Web(repo)'), (u'aljosa(user)', 'Mining-the-Social-Web(repo)'), (u'KwangKa(user)', 'Mining-the-Social-Web(repo)'), (u'lizheming(user)', 'Mining-the-Social-Web(repo)'), (u'jasonyaowu(user)', 'Mining-the-Social-Web(repo)'), (u'kevinbluer(user)', 'Mining-the-Social-Web(repo)'), (u'wojtha(user)', 'Mining-the-Social-Web(repo)'), (u'srikanth-npcompete(user)', 'Mining-the-Social-Web(repo)'), (u'echoapp(user)', 'Mining-the-Social-Web(repo)'), (u'Stankye(user)', 'Mining-the-Social-Web(repo)'), (u'blooberr(user)', 'Mining-the-Social-Web(repo)'), (u'eiriks(user)', 'Mining-the-Social-Web(repo)'), (u'oyomei(user)', 'Mining-the-Social-Web(repo)'), (u'netjack(user)', 'Mining-the-Social-Web(repo)'), (u'ProximaMonkey(user)', 'Mining-the-Social-Web(repo)'), (u'Tommassissimo(user)', 'Mining-the-Social-Web(repo)'), (u'nicib83(user)', 'Mining-the-Social-Web(repo)'), (u'lsevero(user)', 'Mining-the-Social-Web(repo)'), (u'amygdala(user)', 'Mining-the-Social-Web(repo)'), (u'nfx(user)', 'Mining-the-Social-Web(repo)'), (u'mahmoudimus(user)', 'Mining-the-Social-Web(repo)'), (u'lixiaojun(user)', 'Mining-the-Social-Web(repo)'), (u'brianly(user)', 'Mining-the-Social-Web(repo)'), (u'gavelez(user)', 'Mining-the-Social-Web(repo)'), (u'th0ma5w(user)', 'Mining-the-Social-Web(repo)'), (u'jquattrocchi(user)', 'Mining-the-Social-Web(repo)'), (u'jonhurlock(user)', 'Mining-the-Social-Web(repo)'), (u'nbartels(user)', 'Mining-the-Social-Web(repo)'), (u'beibeiyang(user)', 'Mining-the-Social-Web(repo)'), (u'Satomin2864(user)', 'Mining-the-Social-Web(repo)'), (u'whitefoxx(user)', 'Mining-the-Social-Web(repo)'), (u'FrankRouter(user)', 'Mining-the-Social-Web(repo)'), (u'andravasile(user)', 'Mining-the-Social-Web(repo)'), (u'andrewiiird(user)', 'Mining-the-Social-Web(repo)'), (u'jensenrf(user)', 'Mining-the-Social-Web(repo)'), (u'Smerity(user)', 'Mining-the-Social-Web(repo)'), (u'shamiksharma(user)', 'Mining-the-Social-Web(repo)'), (u'butterwick(user)', 'Mining-the-Social-Web(repo)'), (u'huhupao(user)', 'Mining-the-Social-Web(repo)'), (u'ahmdrefat(user)', 'Mining-the-Social-Web(repo)'), (u'nelliemckesson(user)', 'Mining-the-Social-Web(repo)'), (u'okumin(user)', 'Mining-the-Social-Web(repo)'), (u'superfine(user)', 'Mining-the-Social-Web(repo)'), (u'ljdawn(user)', 'Mining-the-Social-Web(repo)'), (u'Nooby(user)', 'Mining-the-Social-Web(repo)'), (u'lovej(user)', 'Mining-the-Social-Web(repo)'), (u'zen4ever(user)', 'Mining-the-Social-Web(repo)'), (u'orlandoferrer(user)', 'Mining-the-Social-Web(repo)'), (u'numanyilmaz(user)', 'Mining-the-Social-Web(repo)'), (u'pxue(user)', 'Mining-the-Social-Web(repo)'), (u'nava45(user)', 'Mining-the-Social-Web(repo)'), (u'harit-sunrun(user)', 'Mining-the-Social-Web(repo)'), (u'griffinqiu(user)', 'Mining-the-Social-Web(repo)'), (u'blackte(user)', 'Mining-the-Social-Web(repo)'), (u'skpatidar(user)', 'Mining-the-Social-Web(repo)'), (u'sukottokun(user)', 'Mining-the-Social-Web(repo)'), (u'xuxiandi(user)', 'Mining-the-Social-Web(repo)'), (u'mrcrabby(user)', 'Mining-the-Social-Web(repo)'), (u'ozgur(user)', 'Mining-the-Social-Web(repo)'), (u'ikegami-yukino(user)', 'Mining-the-Social-Web(repo)'), (u'songjs1993(user)', 'Mining-the-Social-Web(repo)'), (u'sabman(user)', 'Mining-the-Social-Web(repo)'), (u'van5150(user)', 'Mining-the-Social-Web(repo)'), (u'hite(user)', 'Mining-the-Social-Web(repo)'), (u'darron(user)', 'Mining-the-Social-Web(repo)'), (u'ahill1(user)', 'Mining-the-Social-Web(repo)'), (u'chaoyangqq(user)', 'Mining-the-Social-Web(repo)'), (u'danielpreotiuc(user)', 'Mining-the-Social-Web(repo)'), (u'jasmineeeong(user)', 'Mining-the-Social-Web(repo)'), (u'Cerya(user)', 'Mining-the-Social-Web(repo)'), (u'SecMonkey(user)', 'Mining-the-Social-Web(repo)'), (u'amuise(user)', 'Mining-the-Social-Web(repo)'), (u'sungis(user)', 'Mining-the-Social-Web(repo)'), (u'defcyy(user)', 'Mining-the-Social-Web(repo)'), (u'tishon(user)', 'Mining-the-Social-Web(repo)'), (u'lingling2012(user)', 'Mining-the-Social-Web(repo)'), (u'wernerramaekers(user)', 'Mining-the-Social-Web(repo)'), (u'bububa(user)', 'Mining-the-Social-Web(repo)'), (u'jexchan(user)', 'Mining-the-Social-Web(repo)'), (u'Zouyiran(user)', 'Mining-the-Social-Web(repo)'), (u'colfire(user)', 'Mining-the-Social-Web(repo)'), (u'amanahuja(user)', 'Mining-the-Social-Web(repo)'), (u'dcj(user)', 'Mining-the-Social-Web(repo)'), (u'liuzz1983(user)', 'Mining-the-Social-Web(repo)'), (u'clarecorthell(user)', 'Mining-the-Social-Web(repo)'), (u'lmmsoft(user)', 'Mining-the-Social-Web(repo)'), (u'mlaprise(user)', 'Mining-the-Social-Web(repo)'), (u'sp00(user)', 'Mining-the-Social-Web(repo)'), (u'burakerdem(user)', 'Mining-the-Social-Web(repo)'), (u'lucianosb(user)', 'Mining-the-Social-Web(repo)'), (u'sebasmagri(user)', 'Mining-the-Social-Web(repo)'), (u'janedallaway(user)', 'Mining-the-Social-Web(repo)'), (u'evandrix(user)', 'Mining-the-Social-Web(repo)'), (u'Kilian(user)', 'Mining-the-Social-Web(repo)'), (u'tikums(user)', 'Mining-the-Social-Web(repo)'), (u'jdmiranda(user)', 'Mining-the-Social-Web(repo)'), (u'shunwen(user)', 'Mining-the-Social-Web(repo)'), (u'kyrcha(user)', 'Mining-the-Social-Web(repo)'), (u'ryan-w-moore(user)', 'Mining-the-Social-Web(repo)'), (u'mikedory(user)', 'Mining-the-Social-Web(repo)'), (u'Xeoncross(user)', 'Mining-the-Social-Web(repo)'), (u'hardisty(user)', 'Mining-the-Social-Web(repo)'), (u'sanpingz(user)', 'Mining-the-Social-Web(repo)'), (u'chharish(user)', 'Mining-the-Social-Web(repo)'), (u'mcanthony(user)', 'Mining-the-Social-Web(repo)'), (u'ryanoneill(user)', 'Mining-the-Social-Web(repo)'), (u'sammyrulez(user)', 'Mining-the-Social-Web(repo)'), (u'yishino22(user)', 'Mining-the-Social-Web(repo)'), (u'pentesticles(user)', 'Mining-the-Social-Web(repo)'), (u'ichim-david(user)', 'Mining-the-Social-Web(repo)'), (u'liangsijian(user)', 'Mining-the-Social-Web(repo)'), (u'JimberXin(user)', 'Mining-the-Social-Web(repo)'), (u'mattzarzecki(user)', 'Mining-the-Social-Web(repo)'), (u'matsu911(user)', 'Mining-the-Social-Web(repo)'), (u'ichunhui(user)', 'Mining-the-Social-Web(repo)'), (u'cmlh(user)', 'Mining-the-Social-Web(repo)'), (u'inkless(user)', 'Mining-the-Social-Web(repo)'), (u'dgleebits(user)', 'Mining-the-Social-Web(repo)'), (u'mduering(user)', 'Mining-the-Social-Web(repo)'), (u'adriaant(user)', 'Mining-the-Social-Web(repo)'), (u'fmaume(user)', 'Mining-the-Social-Web(repo)'), (u'denisarnaud(user)', 'Mining-the-Social-Web(repo)'), (u'lxj0276(user)', 'Mining-the-Social-Web(repo)'), (u'dan0(user)', 'Mining-the-Social-Web(repo)'), (u'gabrielluong(user)', 'Mining-the-Social-Web(repo)'), (u'ccxysfh(user)', 'Mining-the-Social-Web(repo)'), (u'yxlwfds(user)', 'Mining-the-Social-Web(repo)'), (u'forrest001(user)', 'Mining-the-Social-Web(repo)'), (u'patrickclancy(user)', 'Mining-the-Social-Web(repo)'), (u'uptonking(user)', 'Mining-the-Social-Web(repo)'), (u'microamp(user)', 'Mining-the-Social-Web(repo)'), (u'website0207(user)', 'Mining-the-Social-Web(repo)'), (u'MadDataScience(user)', 'Mining-the-Social-Web(repo)'), (u't3j45(user)', 'Mining-the-Social-Web(repo)'), (u'kod3r(user)', 'Mining-the-Social-Web(repo)'), (u'satybald(user)', 'Mining-the-Social-Web(repo)'), (u'arnim(user)', 'Mining-the-Social-Web(repo)'), (u'invinciblejha(user)', 'Mining-the-Social-Web(repo)'), (u'ch0psticks(user)', 'Mining-the-Social-Web(repo)'), (u'masa-kato(user)', 'Mining-the-Social-Web(repo)'), (u'dozean(user)', 'Mining-the-Social-Web(repo)'), (u'phildow(user)', 'Mining-the-Social-Web(repo)'), (u'jonathanyee(user)', 'Mining-the-Social-Web(repo)'), (u'putorti(user)', 'Mining-the-Social-Web(repo)'), (u'odewahn(user)', 'Mining-the-Social-Web(repo)'), (u'degiere(user)', 'Mining-the-Social-Web(repo)'), (u'lkrids(user)', 'Mining-the-Social-Web(repo)'), (u'datomnurdin(user)', 'Mining-the-Social-Web(repo)'), (u'nvoa2358(user)', 'Mining-the-Social-Web(repo)'), (u'jcamacaro(user)', 'Mining-the-Social-Web(repo)'), (u'anneeeee(user)', 'Mining-the-Social-Web(repo)'), (u'ymn1k(user)', 'Mining-the-Social-Web(repo)'), (u'elviswf(user)', 'Mining-the-Social-Web(repo)'), (u'knapsack(user)', 'Mining-the-Social-Web(repo)'), (u'spartakan(user)', 'Mining-the-Social-Web(repo)'), (u'jackylee(user)', 'Mining-the-Social-Web(repo)'), (u'liujiantong(user)', 'Mining-the-Social-Web(repo)'), (u'vshulyak(user)', 'Mining-the-Social-Web(repo)'), (u'dextercasey(user)', 'Mining-the-Social-Web(repo)'), (u'darkseed(user)', 'Mining-the-Social-Web(repo)'), (u'Kudo(user)', 'Mining-the-Social-Web(repo)'), (u'jasonbogovich(user)', 'Mining-the-Social-Web(repo)'), (u'supaket(user)', 'Mining-the-Social-Web(repo)'), (u'miclovich(user)', 'Mining-the-Social-Web(repo)'), (u'firesofmay(user)', 'Mining-the-Social-Web(repo)'), (u'cchamma(user)', 'Mining-the-Social-Web(repo)'), (u'levigross(user)', 'Mining-the-Social-Web(repo)'), (u'blynch(user)', 'Mining-the-Social-Web(repo)'), (u'octoberman(user)', 'Mining-the-Social-Web(repo)'), (u'fasouto(user)', 'Mining-the-Social-Web(repo)'), (u'vkurchatkin(user)', 'Mining-the-Social-Web(repo)'), (u'msbanik(user)', 'Mining-the-Social-Web(repo)'), (u'carlplant(user)', 'Mining-the-Social-Web(repo)'), (u'infantiablue(user)', 'Mining-the-Social-Web(repo)'), (u'lulstrup(user)', 'Mining-the-Social-Web(repo)'), (u'andreigta(user)', 'Mining-the-Social-Web(repo)'), (u'erseyang(user)', 'Mining-the-Social-Web(repo)'), (u'johnthedebs(user)', 'Mining-the-Social-Web(repo)'), (u'jcesarblues(user)', 'Mining-the-Social-Web(repo)'), (u'mgalushka(user)', 'Mining-the-Social-Web(repo)'), (u'takuan-osho(user)', 'Mining-the-Social-Web(repo)'), (u'Geek4IT(user)', 'Mining-the-Social-Web(repo)'), (u'arnab-chakrabarti(user)', 'Mining-the-Social-Web(repo)'), (u'mitum(user)', 'Mining-the-Social-Web(repo)'), (u'galvez(user)', 'Mining-the-Social-Web(repo)'), (u'klgraham(user)', 'Mining-the-Social-Web(repo)'), (u'jbreger(user)', 'Mining-the-Social-Web(repo)'), (u'qxde01(user)', 'Mining-the-Social-Web(repo)'), (u'bertomartin(user)', 'Mining-the-Social-Web(repo)'), (u'doolin(user)', 'Mining-the-Social-Web(repo)'), (u'JosephLaurino(user)', 'Mining-the-Social-Web(repo)'), (u'hirosenokensan(user)', 'Mining-the-Social-Web(repo)'), (u'brycepj(user)', 'Mining-the-Social-Web(repo)'), (u'tschloss(user)', 'Mining-the-Social-Web(repo)'), (u'ypxu(user)', 'Mining-the-Social-Web(repo)'), (u'aaronlifton(user)', 'Mining-the-Social-Web(repo)'), (u'marco-s(user)', 'Mining-the-Social-Web(repo)'), (u'zebpalmer(user)', 'Mining-the-Social-Web(repo)'), (u'skibblenybbles(user)', 'Mining-the-Social-Web(repo)'), (u'max08(user)', 'Mining-the-Social-Web(repo)'), (u'neko1990(user)', 'Mining-the-Social-Web(repo)'), (u'mvid(user)', 'Mining-the-Social-Web(repo)'), (u'rays(user)', 'Mining-the-Social-Web(repo)'), (u'lizbew(user)', 'Mining-the-Social-Web(repo)'), (u'laranea(user)', 'Mining-the-Social-Web(repo)'), (u'mikeloukides(user)', 'Mining-the-Social-Web(repo)'), (u'shulinway(user)', 'Mining-the-Social-Web(repo)'), (u'realoptimal(user)', 'Mining-the-Social-Web(repo)'), (u'jmorenoamor(user)', 'Mining-the-Social-Web(repo)'), (u'prb(user)', 'Mining-the-Social-Web(repo)'), (u'screaming(user)', 'Mining-the-Social-Web(repo)'), (u'twistdroach(user)', 'Mining-the-Social-Web(repo)'), (u'bowenli37(user)', 'Mining-the-Social-Web(repo)'), (u'wangle1218(user)', 'Mining-the-Social-Web(repo)'), (u'smokymountains(user)', 'Mining-the-Social-Web(repo)'), (u'RolandAdorjani(user)', 'Mining-the-Social-Web(repo)'), (u'vvoody(user)', 'Mining-the-Social-Web(repo)'), (u'zgw21cn(user)', 'Mining-the-Social-Web(repo)'), (u'jph98(user)', 'Mining-the-Social-Web(repo)'), (u'kostyll(user)', 'Mining-the-Social-Web(repo)'), (u'dudarev(user)', 'Mining-the-Social-Web(repo)'), (u'gradetwo(user)', 'Mining-the-Social-Web(repo)'), (u'zormit(user)', 'Mining-the-Social-Web(repo)'), (u'rbarraud(user)', 'Mining-the-Social-Web(repo)'), (u'miron(user)', 'Mining-the-Social-Web(repo)'), (u'calvdee(user)', 'Mining-the-Social-Web(repo)'), (u'Lujango(user)', 'Mining-the-Social-Web(repo)'), (u'phernandez(user)', 'Mining-the-Social-Web(repo)'), (u'deathcape(user)', 'Mining-the-Social-Web(repo)'), (u'hezila(user)', 'Mining-the-Social-Web(repo)'), (u'anylzer(user)', 'Mining-the-Social-Web(repo)'), (u'theantisofa(user)', 'Mining-the-Social-Web(repo)'), (u'zdogma(user)', 'Mining-the-Social-Web(repo)'), (u'alessandroleite(user)', 'Mining-the-Social-Web(repo)'), (u'annoit(user)', 'Mining-the-Social-Web(repo)'), (u'conditionalogic(user)', 'Mining-the-Social-Web(repo)'), (u'udooz(user)', 'Mining-the-Social-Web(repo)'), (u'ssx(user)', 'Mining-the-Social-Web(repo)'), (u'diskang(user)', 'Mining-the-Social-Web(repo)'), (u'getnpk(user)', 'Mining-the-Social-Web(repo)'), (u'twleung(user)', 'Mining-the-Social-Web(repo)'), (u'bugkiwi(user)', 'Mining-the-Social-Web(repo)'), (u'darwin31(user)', 'Mining-the-Social-Web(repo)'), (u'retrobabel(user)', 'Mining-the-Social-Web(repo)'), (u'indiejoseph(user)', 'Mining-the-Social-Web(repo)'), (u'shahkushan1(user)', 'Mining-the-Social-Web(repo)'), (u'JGeovani(user)', 'Mining-the-Social-Web(repo)'), (u'joskid(user)', 'Mining-the-Social-Web(repo)'), (u'omarberg(user)', 'Mining-the-Social-Web(repo)'), (u'kcnickerson(user)', 'Mining-the-Social-Web(repo)'), (u'eraldcoil(user)', 'Mining-the-Social-Web(repo)'), (u'stevencoding(user)', 'Mining-the-Social-Web(repo)'), (u'ygbr(user)', 'Mining-the-Social-Web(repo)'), (u'HandyAndyShortStack(user)', 'Mining-the-Social-Web(repo)'), (u'mki(user)', 'Mining-the-Social-Web(repo)'), (u'osiloke(user)', 'Mining-the-Social-Web(repo)'), (u'amitkumar01(user)', 'Mining-the-Social-Web(repo)'), (u'NikGero(user)', 'Mining-the-Social-Web(repo)'), (u'robbfitzsimmons(user)', 'Mining-the-Social-Web(repo)'), (u'cegme(user)', 'Mining-the-Social-Web(repo)'), (u'lslab(user)', 'Mining-the-Social-Web(repo)'), (u'KWMalik(user)', 'Mining-the-Social-Web(repo)'), (u'pinoystartup(user)', 'Mining-the-Social-Web(repo)'), (u'mikhailxu(user)', 'Mining-the-Social-Web(repo)'), (u'vgoklani(user)', 'Mining-the-Social-Web(repo)'), (u'xuqiang(user)', 'Mining-the-Social-Web(repo)'), (u'motord(user)', 'Mining-the-Social-Web(repo)'), (u'lmazzon(user)', 'Mining-the-Social-Web(repo)'), (u'katajuta(user)', 'Mining-the-Social-Web(repo)'), (u'uetchy(user)', 'Mining-the-Social-Web(repo)'), (u'gawbul(user)', 'Mining-the-Social-Web(repo)'), (u'bcho(user)', 'Mining-the-Social-Web(repo)'), (u'nellaivijay(user)', 'Mining-the-Social-Web(repo)'), (u'jacktang(user)', 'Mining-the-Social-Web(repo)'), (u'soarer(user)', 'Mining-the-Social-Web(repo)'), (u'zeristor(user)', 'Mining-the-Social-Web(repo)'), (u'ptwobrussell(user)', 'Mining-the-Social-Web(repo)'), (u'bigsml(user)', 'Mining-the-Social-Web(repo)'), (u'mtayseer(user)', 'Mining-the-Social-Web(repo)'), (u'mcroydon(user)', 'Mining-the-Social-Web(repo)'), (u'mirjalil(user)', 'Mining-the-Social-Web(repo)'), (u'dlkahn(user)', 'Mining-the-Social-Web(repo)'), (u'wuzhenyusjtu(user)', 'Mining-the-Social-Web(repo)'), (u'charlesgavin(user)', 'Mining-the-Social-Web(repo)'), (u'edwelker(user)', 'Mining-the-Social-Web(repo)'), (u'wenLiangcan(user)', 'Mining-the-Social-Web(repo)'), (u'soumyasd(user)', 'Mining-the-Social-Web(repo)'), (u'aviot(user)', 'Mining-the-Social-Web(repo)'), (u'gaohao(user)', 'Mining-the-Social-Web(repo)'), (u'mohamadhussien(user)', 'Mining-the-Social-Web(repo)'), (u'bin3(user)', 'Mining-the-Social-Web(repo)'), (u'ivanfioravanti(user)', 'Mining-the-Social-Web(repo)'), (u'alixaxel(user)', 'Mining-the-Social-Web(repo)'), (u'tankle(user)', 'Mining-the-Social-Web(repo)'), (u'blu-elephant(user)', 'Mining-the-Social-Web(repo)'), (u'benregn(user)', 'Mining-the-Social-Web(repo)'), (u'yellowBirdy(user)', 'Mining-the-Social-Web(repo)'), (u'Gal3riel(user)', 'Mining-the-Social-Web(repo)'), (u'JohnStuartRutledge(user)', 'Mining-the-Social-Web(repo)'), (u'stonegao(user)', 'Mining-the-Social-Web(repo)'), (u'cdesch(user)', 'Mining-the-Social-Web(repo)'), (u'nborwankar(user)', 'Mining-the-Social-Web(repo)'), (u'vinay631(user)', 'Mining-the-Social-Web(repo)'), (u'shanghai-Jerry(user)', 'Mining-the-Social-Web(repo)'), (u'LuRsT(user)', 'Mining-the-Social-Web(repo)'), (u'trevorhales(user)', 'Mining-the-Social-Web(repo)'), (u'davyfeng(user)', 'Mining-the-Social-Web(repo)'), (u'boskaiolo(user)', 'Mining-the-Social-Web(repo)'), (u'kemaltaskin(user)', 'Mining-the-Social-Web(repo)'), (u'rfinkers(user)', 'Mining-the-Social-Web(repo)'), (u'saptarsi-chowdhury(user)', 'Mining-the-Social-Web(repo)'), (u'tzuryby(user)', 'Mining-the-Social-Web(repo)'), (u'jasonyaw(user)', 'Mining-the-Social-Web(repo)'), (u'Eavie(user)', 'Mining-the-Social-Web(repo)'), (u'swinton(user)', 'Mining-the-Social-Web(repo)'), (u'drelu(user)', 'Mining-the-Social-Web(repo)'), (u'yasu00000(user)', 'Mining-the-Social-Web(repo)'), (u'samesense(user)', 'Mining-the-Social-Web(repo)'), (u'brimbrom(user)', 'Mining-the-Social-Web(repo)'), (u'ggtr1138(user)', 'Mining-the-Social-Web(repo)'), (u'klaut(user)', 'Mining-the-Social-Web(repo)'), (u'sleeptillseven(user)', 'Mining-the-Social-Web(repo)'), (u'lzell(user)', 'Mining-the-Social-Web(repo)'), (u'sangeethamuralidharan(user)', 'Mining-the-Social-Web(repo)'), (u'torsday(user)', 'Mining-the-Social-Web(repo)'), (u'kevinchiu(user)', 'Mining-the-Social-Web(repo)'), (u'mfadel85(user)', 'Mining-the-Social-Web(repo)'), (u'babumathew(user)', 'Mining-the-Social-Web(repo)'), (u'Vic020(user)', 'Mining-the-Social-Web(repo)'), (u'hohoqi(user)', 'Mining-the-Social-Web(repo)'), (u'masroor(user)', 'Mining-the-Social-Web(repo)'), (u'nbyloff(user)', 'Mining-the-Social-Web(repo)'), (u'itsBegun(user)', 'Mining-the-Social-Web(repo)'), (u'Solertis(user)', 'Mining-the-Social-Web(repo)'), (u'pors(user)', 'Mining-the-Social-Web(repo)'), (u'aidiss(user)', 'Mining-the-Social-Web(repo)'), (u'cheekybastard(user)', 'Mining-the-Social-Web(repo)'), (u'ekgren(user)', 'Mining-the-Social-Web(repo)'), (u'bazinga777(user)', 'Mining-the-Social-Web(repo)'), (u'SamLebarbare(user)', 'Mining-the-Social-Web(repo)'), (u'zhaodylan(user)', 'Mining-the-Social-Web(repo)'), (u'guiambros(user)', 'Mining-the-Social-Web(repo)'), (u'sunchengjie(user)', 'Mining-the-Social-Web(repo)'), (u'dr00(user)', 'Mining-the-Social-Web(repo)'), (u'alessioalex(user)', 'Mining-the-Social-Web(repo)'), (u'ido(user)', 'Mining-the-Social-Web(repo)'), (u'caryhague(user)', 'Mining-the-Social-Web(repo)'), (u'egorkaru(user)', 'Mining-the-Social-Web(repo)'), (u'BruFFHS(user)', 'Mining-the-Social-Web(repo)'), (u'manav(user)', 'Mining-the-Social-Web(repo)'), (u'katychuang(user)', 'Mining-the-Social-Web(repo)'), (u'Stecki(user)', 'Mining-the-Social-Web(repo)'), (u'aarynling(user)', 'Mining-the-Social-Web(repo)'), (u'wangqi(user)', 'Mining-the-Social-Web(repo)'), (u'shijinkui(user)', 'Mining-the-Social-Web(repo)'), (u'sunyt(user)', 'Mining-the-Social-Web(repo)'), (u'apitts(user)', 'Mining-the-Social-Web(repo)'), (u'wangrn(user)', 'Mining-the-Social-Web(repo)'), (u'docete(user)', 'Mining-the-Social-Web(repo)'), (u'ustramooner(user)', 'Mining-the-Social-Web(repo)'), (u'Fansion(user)', 'Mining-the-Social-Web(repo)'), (u'sou(user)', 'Mining-the-Social-Web(repo)'), (u'Bllee(user)', 'Mining-the-Social-Web(repo)'), (u'm4ngust(user)', 'Mining-the-Social-Web(repo)'), (u'henrikno(user)', 'Mining-the-Social-Web(repo)'), (u'Buttonwood(user)', 'Mining-the-Social-Web(repo)'), (u'pcdinh(user)', 'Mining-the-Social-Web(repo)'), (u'huangxi668(user)', 'Mining-the-Social-Web(repo)'), (u'icyphoenix(user)', 'Mining-the-Social-Web(repo)'), (u'shyamsingh(user)', 'Mining-the-Social-Web(repo)'), (u'semantium(user)', 'Mining-the-Social-Web(repo)'), (u'jonathanjo(user)', 'Mining-the-Social-Web(repo)'), (u'gdberrio(user)', 'Mining-the-Social-Web(repo)'), (u'srinatar(user)', 'Mining-the-Social-Web(repo)'), (u'skotwani(user)', 'Mining-the-Social-Web(repo)'), (u'antiface(user)', 'Mining-the-Social-Web(repo)'), (u'marksands(user)', 'Mining-the-Social-Web(repo)'), (u'abousha(user)', 'Mining-the-Social-Web(repo)'), (u'B-Rich(user)', 'Mining-the-Social-Web(repo)'), (u'cpyo(user)', 'Mining-the-Social-Web(repo)'), (u'umang94(user)', 'Mining-the-Social-Web(repo)'), (u'deerishi(user)', 'Mining-the-Social-Web(repo)'), (u'TaulantRamabaja(user)', 'Mining-the-Social-Web(repo)'), (u'sudar(user)', 'Mining-the-Social-Web(repo)'), (u'wmelton(user)', 'Mining-the-Social-Web(repo)'), (u'cpatni(user)', 'Mining-the-Social-Web(repo)'), (u'clyfe(user)', 'Mining-the-Social-Web(repo)'), (u'gaohailang(user)', 'Mining-the-Social-Web(repo)'), (u'jin-king(user)', 'Mining-the-Social-Web(repo)'), (u'chuckchen(user)', 'Mining-the-Social-Web(repo)'), (u'moutai(user)', 'Mining-the-Social-Web(repo)'), (u'wonderisland(user)', 'Mining-the-Social-Web(repo)'), (u'Tvli(user)', 'Mining-the-Social-Web(repo)'), (u'beali(user)', 'Mining-the-Social-Web(repo)'), (u'sunan(user)', 'Mining-the-Social-Web(repo)'), (u'shaunc(user)', 'Mining-the-Social-Web(repo)'), (u'haraball(user)', 'Mining-the-Social-Web(repo)'), (u'hackerway(user)', 'Mining-the-Social-Web(repo)'), (u'bjpcjp(user)', 'Mining-the-Social-Web(repo)'), (u'Jason-Chan(user)', 'Mining-the-Social-Web(repo)'), (u'tomconte(user)', 'Mining-the-Social-Web(repo)'), (u'swix(user)', 'Mining-the-Social-Web(repo)'), (u'Eagles2F(user)', 'Mining-the-Social-Web(repo)'), (u'ayaniimi213(user)', 'Mining-the-Social-Web(repo)'), (u'JT5D(user)', 'Mining-the-Social-Web(repo)'), (u'yeeyou(user)', 'Mining-the-Social-Web(repo)'), (u'clwen(user)', 'Mining-the-Social-Web(repo)'), (u'Arthraim(user)', 'Mining-the-Social-Web(repo)'), (u'srbjwe(user)', 'Mining-the-Social-Web(repo)'), (u'gui11aume(user)', 'Mining-the-Social-Web(repo)'), (u'immersinn(user)', 'Mining-the-Social-Web(repo)'), (u'suzuki(user)', 'Mining-the-Social-Web(repo)'), (u'sjwilliams(user)', 'Mining-the-Social-Web(repo)'), (u'dream4j(user)', 'Mining-the-Social-Web(repo)'), (u'zmughal(user)', 'Mining-the-Social-Web(repo)'), (u'ch710798472(user)', 'Mining-the-Social-Web(repo)'), (u'antiviruser(user)', 'Mining-the-Social-Web(repo)'), (u'abuiles(user)', 'Mining-the-Social-Web(repo)'), (u'aronlindberg(user)', 'Mining-the-Social-Web(repo)'), (u'lillies(user)', 'Mining-the-Social-Web(repo)'), (u'zavg(user)', 'Mining-the-Social-Web(repo)'), (u'divyakkm(user)', 'Mining-the-Social-Web(repo)'), (u'slacy(user)', 'Mining-the-Social-Web(repo)'), (u'richallensf(user)', 'Mining-the-Social-Web(repo)'), (u'ayakix(user)', 'Mining-the-Social-Web(repo)'), (u'tanjie123(user)', 'Mining-the-Social-Web(repo)'), (u'rayleyva(user)', 'Mining-the-Social-Web(repo)'), (u'barce(user)', 'Mining-the-Social-Web(repo)'), (u'eephus101(user)', 'Mining-the-Social-Web(repo)'), (u'capitolmuckrakr(user)', 'Mining-the-Social-Web(repo)'), (u'azarbakht(user)', 'Mining-the-Social-Web(repo)'), (u'bigsnarfdude(user)', 'Mining-the-Social-Web(repo)'), (u'zhenv5(user)', 'Mining-the-Social-Web(repo)'), (u'lyddonb(user)', 'Mining-the-Social-Web(repo)'), (u'IbrahimCode(user)', 'Mining-the-Social-Web(repo)'), (u'c0der007(user)', 'Mining-the-Social-Web(repo)'), (u'joshbhamilton(user)', 'Mining-the-Social-Web(repo)'), (u'tomze(user)', 'Mining-the-Social-Web(repo)'), (u'frfeni(user)', 'Mining-the-Social-Web(repo)'), (u'maurorodrigues(user)', 'Mining-the-Social-Web(repo)'), (u'yangdahui(user)', 'Mining-the-Social-Web(repo)'), (u'megansquire(user)', 'Mining-the-Social-Web(repo)'), (u'sraghav(user)', 'Mining-the-Social-Web(repo)'), (u'tracyliang18(user)', 'Mining-the-Social-Web(repo)'), (u'srspear(user)', 'Mining-the-Social-Web(repo)'), (u'yifudiao(user)', 'Mining-the-Social-Web(repo)'), (u'oskar-j(user)', 'Mining-the-Social-Web(repo)'), (u'yankay(user)', 'Mining-the-Social-Web(repo)'), (u'chenfugui(user)', 'Mining-the-Social-Web(repo)'), (u'Macolulu(user)', 'Mining-the-Social-Web(repo)'), (u'jrstanley(user)', 'Mining-the-Social-Web(repo)'), (u'claudeck(user)', 'Mining-the-Social-Web(repo)'), (u'dantangfan(user)', 'Mining-the-Social-Web(repo)')]\n",
      "[]\n"
     ]
    }
   ],
   "source": [
    "# Poke around in the current graph to get a better feel for how NetworkX works\n",
    "\n",
    "print nx.info(g)\n",
    "print\n",
    "print g.node['Mining-the-Social-Web(repo)']\n",
    "print g.node['ptwobrussell(user)']\n",
    "print\n",
    "print g['ptwobrussell(user)']['Mining-the-Social-Web(repo)']\n",
    "# The next line would throw a KeyError since no such edge exists:\n",
    "# print g['Mining-the-Social-Web(repo)']['ptwobrussell(user)']\n",
    "print\n",
    "print g['ptwobrussell(user)']\n",
    "print g['Mining-the-Social-Web(repo)']\n",
    "print\n",
    "print g.in_edges(['ptwobrussell(user)'])\n",
    "print g.out_edges(['ptwobrussell(user)'])\n",
    "print\n",
    "print g.in_edges(['Mining-the-Social-Web(repo)'])\n",
    "print g.out_edges(['Mining-the-Social-Web(repo)'])"
   ]
  },
  {
   "cell_type": "markdown",
   "metadata": {},
   "source": [
    "## Example 7. Calculating degree, betweenness, and closeness centrality measures on the Krackhardt kite graph"
   ]
  },
  {
   "cell_type": "code",
   "execution_count": null,
   "metadata": {
    "collapsed": true
   },
   "outputs": [],
   "source": [
    "from operator import itemgetter\n",
    "from IPython.display import HTML\n",
    "from IPython.core.display import display\n",
    "\n",
    "display(HTML('<img src=\"files/resources/ch07-github/kite-graph.png\" width=\"400px\">'))\n",
    "\n",
    "# The classic Krackhardt kite graph\n",
    "kkg = nx.generators.small.krackhardt_kite_graph()\n",
    "\n",
    "print \"Degree Centrality\"\n",
    "print sorted(nx.degree_centrality(kkg).items(), \n",
    "             key=itemgetter(1), reverse=True)\n",
    "print\n",
    "\n",
    "print \"Betweenness Centrality\"\n",
    "print sorted(nx.betweenness_centrality(kkg).items(), \n",
    "             key=itemgetter(1), reverse=True)\n",
    "print\n",
    "\n",
    "print \"Closeness Centrality\"\n",
    "print sorted(nx.closeness_centrality(kkg).items(), \n",
    "             key=itemgetter(1), reverse=True)"
   ]
  },
  {
   "cell_type": "markdown",
   "metadata": {},
   "source": [
    "## Example 8. Adding additional interest edges to the graph through the inclusion of \"follows\" edges"
   ]
  },
  {
   "cell_type": "code",
   "execution_count": null,
   "metadata": {
    "collapsed": true
   },
   "outputs": [],
   "source": [
    "# Add (social) edges from the stargazers' followers. This can take a while \n",
    "# because of all of the potential API calls to GitHub. The approximate number\n",
    "# of requests for followers for each iteration of this loop can be calculated as\n",
    "# math.ceil(sg.get_followers() / 100.0) per the API returning up to 100 items\n",
    "# at a time.\n",
    "\n",
    "import sys\n",
    "\n",
    "for i, sg in enumerate(stargazers):\n",
    "    \n",
    "    # Add \"follows\" edges between stargazers in the graph if any relationships exist\n",
    "    try:\n",
    "        for follower in sg.get_followers():\n",
    "            if follower.login + '(user)' in g:\n",
    "                g.add_edge(follower.login + '(user)', sg.login + '(user)', \n",
    "                           type='follows')\n",
    "    except Exception, e: #ssl.SSLError\n",
    "        print >> sys.stderr, \"Encountered an error fetching followers for\", \\\n",
    "                             sg.login, \"Skipping.\"\n",
    "        print >> sys.stderr, e\n",
    "\n",
    "    print \"Processed\", i+1, \" stargazers. Num nodes/edges in graph\", \\\n",
    "          g.number_of_nodes(), \"/\", g.number_of_edges()\n",
    "    print \"Rate limit remaining\", client.rate_limiting"
   ]
  },
  {
   "cell_type": "markdown",
   "metadata": {},
   "source": [
    "## Example 9. Exploring the updated graph's \"follows\" edges"
   ]
  },
  {
   "cell_type": "code",
   "execution_count": null,
   "metadata": {
    "collapsed": true
   },
   "outputs": [],
   "source": [
    "from operator import itemgetter\n",
    "from collections import Counter\n",
    "\n",
    "# Let's see how many social edges we added since last time.\n",
    "print nx.info(g)\n",
    "print\n",
    "\n",
    "# The number of \"follows\" edges is the difference\n",
    "print len([e for e in g.edges_iter(data=True) if e[2]['type'] == 'follows'])\n",
    "print\n",
    "\n",
    "# The repository owner is possibly one of the more popular users in this graph.\n",
    "print len([e \n",
    "           for e in g.edges_iter(data=True) \n",
    "               if e[2]['type'] == 'follows' and e[1] == 'ptwobrussell(user)'])\n",
    "print\n",
    "\n",
    "# Let's examine the number of adjacent edges to each node\n",
    "print sorted([n for n in g.degree_iter()], key=itemgetter(1), reverse=True)[:10]\n",
    "print\n",
    "\n",
    "# Consider the ratio of incoming and outgoing edges for a couple of users with \n",
    "# high node degrees...\n",
    "\n",
    "# A user who follows many but is not followed back by many.\n",
    "\n",
    "print len(g.out_edges('hcilab(user)'))\n",
    "print len(g.in_edges('hcilab(user)'))\n",
    "print\n",
    "\n",
    "# A user who is followed by many but does not follow back.\n",
    "\n",
    "print len(g.out_edges('ptwobrussell(user)'))\n",
    "print len(g.in_edges('ptwobrussell(user)'))\n",
    "print\n",
    "\n",
    "c = Counter([e[1] for e in g.edges_iter(data=True) if e[2]['type'] == 'follows'])\n",
    "popular_users = [ (u, f) for (u, f) in c.most_common() if f > 1 ]\n",
    "print \"Number of popular users\", len(popular_users)\n",
    "print \"Top 10 popular users:\", popular_users[:10]"
   ]
  },
  {
   "cell_type": "markdown",
   "metadata": {},
   "source": [
    "## Example 10. Snapshotting (pickling) the graph's state to disk"
   ]
  },
  {
   "cell_type": "code",
   "execution_count": null,
   "metadata": {
    "collapsed": true
   },
   "outputs": [],
   "source": [
    "# Save your work by serializing out (pickling) the graph\n",
    "nx.write_gpickle(g, \"resources/ch07-github/data/github.gpickle.1\")\n",
    "\n",
    "# How to restore the graph...\n",
    "# import networkx as nx\n",
    "# g = nx.read_gpickle(\"resources/ch07-github/data/github.gpickle.1\")"
   ]
  },
  {
   "cell_type": "markdown",
   "metadata": {},
   "source": [
    "## Example 11. Applying centrality measures to the interest graph"
   ]
  },
  {
   "cell_type": "code",
   "execution_count": null,
   "metadata": {
    "collapsed": true
   },
   "outputs": [],
   "source": [
    "from operator import itemgetter\n",
    "\n",
    "# Create a copy of the graph so that we can iteratively mutate the copy\n",
    "# as needed for experimentation\n",
    "\n",
    "h = g.copy()\n",
    "\n",
    "# Remove the seed of the interest graph, which is a supernode, in order\n",
    "# to get a better idea of the network dynamics\n",
    "\n",
    "h.remove_node('Mining-the-Social-Web(repo)')\n",
    "\n",
    "# XXX: Remove any other nodes that appear to be supernodes.\n",
    "# Filter any other nodes that you can by threshold\n",
    "# criteria or heuristics from inspection.\n",
    "\n",
    "# Display the centrality measures for the top 10 nodes\n",
    "\n",
    "\n",
    "dc = sorted(nx.degree_centrality(h).items(), \n",
    "            key=itemgetter(1), reverse=True)\n",
    "\n",
    "print \"Degree Centrality\"\n",
    "print dc[:10]\n",
    "print\n",
    "\n",
    "bc = sorted(nx.betweenness_centrality(h).items(), \n",
    "            key=itemgetter(1), reverse=True)\n",
    "\n",
    "print \"Betweenness Centrality\"\n",
    "print bc[:10]\n",
    "print\n",
    "\n",
    "print \"Closeness Centrality\"\n",
    "cc = sorted(nx.closeness_centrality(h).items(), \n",
    "            key=itemgetter(1), reverse=True)\n",
    "print cc[:10]"
   ]
  },
  {
   "cell_type": "markdown",
   "metadata": {},
   "source": [
    "## Example 12. Adding starred repositories to the graph"
   ]
  },
  {
   "cell_type": "code",
   "execution_count": null,
   "metadata": {
    "collapsed": true
   },
   "outputs": [],
   "source": [
    "# Let's add each stargazer's additional starred repos and add edges \n",
    "# to find additional interests.\n",
    "\n",
    "MAX_REPOS = 500\n",
    "\n",
    "for i, sg in enumerate(stargazers):\n",
    "    print sg.login\n",
    "    try:\n",
    "        for starred in sg.get_starred()[:MAX_REPOS]: # Slice to avoid supernodes\n",
    "            g.add_node(starred.name + '(repo)', type='repo', lang=starred.language, \\\n",
    "                       owner=starred.owner.login)\n",
    "            g.add_edge(sg.login + '(user)', starred.name + '(repo)', type='gazes')\n",
    "    except Exception, e: #ssl.SSLError:\n",
    "        print \"Encountered an error fetching starred repos for\", sg.login, \"Skipping.\"\n",
    "\n",
    "    print \"Processed\", i+1, \"stargazers' starred repos\"\n",
    "    print \"Num nodes/edges in graph\", g.number_of_nodes(), \"/\", g.number_of_edges()\n",
    "    print \"Rate limit\", client.rate_limiting"
   ]
  },
  {
   "cell_type": "markdown",
   "metadata": {},
   "source": [
    "**NOTE: Given that Example 12 is potentially a very time-consuming example to run, be sure to snapshot your work**"
   ]
  },
  {
   "cell_type": "code",
   "execution_count": null,
   "metadata": {
    "collapsed": true
   },
   "outputs": [],
   "source": [
    "# Save your work by serializing out another snapshot of the graph\n",
    "nx.write_gpickle(g, \"resources/ch07-github/data/github.gpickle.2\")\n",
    "\n",
    "#import networkx as nx\n",
    "#g = nx.read_gpickle(\"resources/ch07-github/data/github.gpickle.2\")"
   ]
  },
  {
   "cell_type": "markdown",
   "metadata": {},
   "source": [
    "Consider analysis similar to _Example 12_ here. Create a copy of the graph and be selective in pruning it or extracting subgraphs of interst."
   ]
  },
  {
   "cell_type": "code",
   "execution_count": null,
   "metadata": {
    "collapsed": true
   },
   "outputs": [],
   "source": []
  },
  {
   "cell_type": "markdown",
   "metadata": {},
   "source": [
    "## Example 13. Exploring the graph after updates with additional starred repositories"
   ]
  },
  {
   "cell_type": "code",
   "execution_count": null,
   "metadata": {
    "collapsed": true
   },
   "outputs": [],
   "source": [
    "# Poke around: how to get users/repos\n",
    "from operator import itemgetter\n",
    "\n",
    "print nx.info(g)\n",
    "print\n",
    "\n",
    "# Get a list of repositories from the graph.\n",
    "\n",
    "repos = [n for n in g.nodes_iter() if g.node[n]['type'] == 'repo']\n",
    "\n",
    "# Most popular repos\n",
    "\n",
    "print \"Popular repositories\"\n",
    "print sorted([(n,d) \n",
    "              for (n,d) in g.in_degree_iter() \n",
    "                  if g.node[n]['type'] == 'repo'], \\\n",
    "             key=itemgetter(1), reverse=True)[:10]\n",
    "print\n",
    "\n",
    "# Projects gazed at by a user\n",
    "\n",
    "print \"Respositories that ptwobrussell has bookmarked\"\n",
    "print [(n,g.node[n]['lang']) \n",
    "       for n in g['ptwobrussell(user)'] \n",
    "           if g['ptwobrussell(user)'][n]['type'] == 'gazes']\n",
    "print\n",
    "\n",
    "# Programming languages for each user\n",
    "\n",
    "print \"Programming languages ptwobrussell is interested in\"\n",
    "print list(set([g.node[n]['lang'] \n",
    "                for n in g['ptwobrussell(user)'] \n",
    "                    if g['ptwobrussell(user)'][n]['type'] == 'gazes']))\n",
    "print\n",
    "\n",
    "# Find supernodes in the graph by approximating with a high number of \n",
    "# outgoing edges\n",
    "\n",
    "print \"Supernode candidates\"\n",
    "print sorted([(n, len(g.out_edges(n))) \n",
    "              for n in g.nodes_iter() \n",
    "                  if g.node[n]['type'] == 'user' and len(g.out_edges(n)) > 500], \\\n",
    "             key=itemgetter(1), reverse=True)"
   ]
  },
  {
   "cell_type": "markdown",
   "metadata": {},
   "source": [
    "## Example 14. Updating the graph to include nodes for programming languages"
   ]
  },
  {
   "cell_type": "code",
   "execution_count": null,
   "metadata": {
    "collapsed": true
   },
   "outputs": [],
   "source": [
    "# Iterate over all of the repos, and add edges for programming languages \n",
    "# for each person in the graph. We'll also add edges back to repos so that \n",
    "# we have a good point to \"pivot\" upon.\n",
    "\n",
    "repos = [n \n",
    "         for n in g.nodes_iter() \n",
    "             if g.node[n]['type'] == 'repo']\n",
    "\n",
    "for repo in repos:\n",
    "    lang = (g.node[repo]['lang'] or \"\") + \"(lang)\"\n",
    "    \n",
    "    stargazers = [u \n",
    "                  for (u, r, d) in g.in_edges_iter(repo, data=True) \n",
    "                     if d['type'] == 'gazes'\n",
    "                 ]\n",
    "    \n",
    "    for sg in stargazers:\n",
    "        g.add_node(lang, type='lang')\n",
    "        g.add_edge(sg, lang, type='programs')\n",
    "        g.add_edge(lang, repo, type='implements')"
   ]
  },
  {
   "cell_type": "markdown",
   "metadata": {},
   "source": [
    "## Example 15. Sample queries for the final graph"
   ]
  },
  {
   "cell_type": "code",
   "execution_count": null,
   "metadata": {
    "collapsed": true
   },
   "outputs": [],
   "source": [
    "# Some stats\n",
    "\n",
    "print nx.info(g)\n",
    "print\n",
    "\n",
    "# What languages exist in the graph?\n",
    "\n",
    "print [n \n",
    "       for n in g.nodes_iter() \n",
    "           if g.node[n]['type'] == 'lang']\n",
    "print\n",
    "\n",
    "# What languages do users program with?\n",
    "print [n \n",
    "       for n in g['ptwobrussell(user)'] \n",
    "           if g['ptwobrussell(user)'][n]['type'] == 'programs']\n",
    "\n",
    "# What is the most popular programming language?\n",
    "print \"Most popular languages\"\n",
    "print sorted([(n, g.in_degree(n))\n",
    " for n in g.nodes_iter() \n",
    "     if g.node[n]['type'] == 'lang'], key=itemgetter(1), reverse=True)[:10]\n",
    "print\n",
    "\n",
    "# How many users program in a particular language?\n",
    "python_programmers = [u \n",
    "                      for (u, l) in g.in_edges_iter('Python(lang)') \n",
    "                          if g.node[u]['type'] == 'user']\n",
    "print \"Number of Python programmers:\", len(python_programmers)\n",
    "print\n",
    "\n",
    "javascript_programmers = [u for \n",
    "                          (u, l) in g.in_edges_iter('JavaScript(lang)') \n",
    "                              if g.node[u]['type'] == 'user']\n",
    "print \"Number of JavaScript programmers:\", len(javascript_programmers)\n",
    "print\n",
    "\n",
    "# What users program in both Python and JavaScript?\n",
    "print \"Number of programmers who use JavaScript and Python\"\n",
    "print len(set(python_programmers).intersection(set(javascript_programmers)))\n",
    "\n",
    "# Programmers who use JavaScript but not Python\n",
    "print \"Number of programmers who use JavaScript but not Python\"\n",
    "print len(set(javascript_programmers).difference(set(python_programmers)))\n",
    "\n",
    "# XXX: Can you determine who is the most polyglot programmer?"
   ]
  },
  {
   "cell_type": "markdown",
   "metadata": {},
   "source": [
    "**NOTE: Optionally, snapshot the final graph**"
   ]
  },
  {
   "cell_type": "code",
   "execution_count": null,
   "metadata": {
    "collapsed": true
   },
   "outputs": [],
   "source": [
    "# Save your work by serializing out another snapshot of the graph\n",
    "nx.write_gpickle(g, \"resources/ch07-github/data/github.gpickle.3\")\n",
    "\n",
    "#import networkx as nx\n",
    "#g = nx.read_gpickle(\"resources/ch07-github/data/github.gpickle.3\")"
   ]
  },
  {
   "cell_type": "markdown",
   "metadata": {},
   "source": [
    "## Example 16. Graph visualization of the social network for the original interest graph"
   ]
  },
  {
   "cell_type": "code",
   "execution_count": null,
   "metadata": {
    "collapsed": true
   },
   "outputs": [],
   "source": [
    "import os\n",
    "import json\n",
    "from IPython.display import IFrame\n",
    "from IPython.core.display import display\n",
    "from networkx.readwrite import json_graph\n",
    "\n",
    "print \"Stats on the full graph\"\n",
    "print nx.info(g)\n",
    "print\n",
    "\n",
    "# Create a subgraph from a collection of nodes. In this case, the\n",
    "# collection is all of the users in the original interest graph\n",
    "\n",
    "mtsw_users = [n for n in g if g.node[n]['type'] == 'user']\n",
    "h = g.subgraph(mtsw_users)\n",
    "\n",
    "print \"Stats on the extracted subgraph\"\n",
    "print nx.info(h)\n",
    "\n",
    "# Visualize the social network of all people from the original interest graph.\n",
    "\n",
    "d = json_graph.node_link_data(h)\n",
    "json.dump(d, open('resources/ch07-github/force.json', 'w'))\n",
    "\n",
    "\n",
    "# IPython Notebook can serve files and display them into\n",
    "# inline frames. Prepend the path with the 'files' prefix.\n",
    "\n",
    "# A D3 template for displaying the graph data.\n",
    "viz_file = 'files/resources/ch07-github/force.html'\n",
    "\n",
    "# Display the D3 visualization.\n",
    "\n",
    "display(IFrame(viz_file, '100%', '600px'))"
   ]
  }
 ],
 "metadata": {
  "kernelspec": {
   "display_name": "Python 2",
   "language": "python",
   "name": "python2"
  },
  "language_info": {
   "codemirror_mode": {
    "name": "ipython",
    "version": 2
   },
   "file_extension": ".py",
   "mimetype": "text/x-python",
   "name": "python",
   "nbconvert_exporter": "python",
   "pygments_lexer": "ipython2",
   "version": "2.7.13"
  }
 },
 "nbformat": 4,
 "nbformat_minor": 1
}
